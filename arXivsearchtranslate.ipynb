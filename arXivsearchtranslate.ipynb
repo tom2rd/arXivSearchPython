{
  "nbformat": 4,
  "nbformat_minor": 0,
  "metadata": {
    "colab": {
      "name": "samplesearchtranslate.ipynb",
      "provenance": [],
      "include_colab_link": true
    },
    "language_info": {
      "codemirror_mode": {
        "name": "ipython",
        "version": 3
      },
      "file_extension": ".py",
      "mimetype": "text/x-python",
      "name": "python",
      "nbconvert_exporter": "python",
      "pygments_lexer": "ipython3",
      "version": "3.7.3"
    },
    "kernelspec": {
      "display_name": "Python 3",
      "language": "python",
      "name": "python3"
    }
  },
  "cells": [
    {
      "cell_type": "markdown",
      "metadata": {
        "id": "view-in-github",
        "colab_type": "text"
      },
      "source": [
        "<a href=\"https://colab.research.google.com/github/tom2rd/arXivSearchPython/blob/master/arXivsearchtranslate.ipynb\" target=\"_parent\"><img src=\"https://colab.research.google.com/assets/colab-badge.svg\" alt=\"Open In Colab\"/></a>"
      ]
    },
    {
      "cell_type": "markdown",
      "metadata": {
        "id": "6E1mSSKmawON",
        "colab_type": "text"
      },
      "source": [
        "# aXiv search with keywords and extract Update, title, auther, and summay.  And translate them."
      ]
    },
    {
      "cell_type": "markdown",
      "metadata": {
        "id": "rrKb5MZGO0G2",
        "colab_type": "text"
      },
      "source": [
        "Use the Google translate  \n",
        "Detail is see https://py-googletrans.readthedocs.io/en/latest/"
      ]
    },
    {
      "cell_type": "code",
      "metadata": {
        "id": "hNpNO5jEO183",
        "colab_type": "code",
        "outputId": "0468a92f-abbf-4417-9722-f4fcf6439db2",
        "colab": {
          "base_uri": "https://localhost:8080/",
          "height": 255
        }
      },
      "source": [
        "!pip install googletrans"
      ],
      "execution_count": 1,
      "outputs": [
        {
          "output_type": "stream",
          "text": [
            "Collecting googletrans\n",
            "  Downloading https://files.pythonhosted.org/packages/fd/f0/a22d41d3846d1f46a4f20086141e0428ccc9c6d644aacbfd30990cf46886/googletrans-2.4.0.tar.gz\n",
            "Requirement already satisfied: requests in /usr/local/lib/python3.6/dist-packages (from googletrans) (2.21.0)\n",
            "Requirement already satisfied: urllib3<1.25,>=1.21.1 in /usr/local/lib/python3.6/dist-packages (from requests->googletrans) (1.24.3)\n",
            "Requirement already satisfied: certifi>=2017.4.17 in /usr/local/lib/python3.6/dist-packages (from requests->googletrans) (2019.9.11)\n",
            "Requirement already satisfied: idna<2.9,>=2.5 in /usr/local/lib/python3.6/dist-packages (from requests->googletrans) (2.8)\n",
            "Requirement already satisfied: chardet<3.1.0,>=3.0.2 in /usr/local/lib/python3.6/dist-packages (from requests->googletrans) (3.0.4)\n",
            "Building wheels for collected packages: googletrans\n",
            "  Building wheel for googletrans (setup.py) ... \u001b[?25l\u001b[?25hdone\n",
            "  Created wheel for googletrans: filename=googletrans-2.4.0-cp36-none-any.whl size=15776 sha256=33a98dd90ea6617347f58e5e5f7437dbc0511e9218b3e5eae3a7f7de14704b7c\n",
            "  Stored in directory: /root/.cache/pip/wheels/50/d6/e7/a8efd5f2427d5eb258070048718fa56ee5ac57fd6f53505f95\n",
            "Successfully built googletrans\n",
            "Installing collected packages: googletrans\n",
            "Successfully installed googletrans-2.4.0\n"
          ],
          "name": "stdout"
        }
      ]
    },
    {
      "cell_type": "code",
      "metadata": {
        "id": "XLFqE0ypO6rg",
        "colab_type": "code",
        "colab": {}
      },
      "source": [
        "from googletrans import Translator\n",
        "translator = Translator()"
      ],
      "execution_count": 0,
      "outputs": []
    },
    {
      "cell_type": "code",
      "metadata": {
        "id": "yGMi6IlhawOU",
        "colab_type": "code",
        "colab": {}
      },
      "source": [
        "import urllib.request\n",
        "import datetime as dt\n",
        "import re"
      ],
      "execution_count": 0,
      "outputs": []
    },
    {
      "cell_type": "code",
      "metadata": {
        "id": "x8ly7mXCawOg",
        "colab_type": "code",
        "colab": {}
      },
      "source": [
        "basedate = dt.date.today()+dt.timedelta(days=-1)\n",
        "previousdate = basedate +dt.timedelta(days=-1)"
      ],
      "execution_count": 0,
      "outputs": []
    },
    {
      "cell_type": "markdown",
      "metadata": {
        "id": "JrFa7oS3Meiq",
        "colab_type": "text"
      },
      "source": [
        "Edit Search_query. The example, Search key words are \"Energy\" and \"Managiment\" and max results is 20 papersThe parameter detail is arXiv api page,  [here](https://arxiv.org/help/api/user-manual#query_details)"
      ]
    },
    {
      "cell_type": "code",
      "metadata": {
        "id": "ACzKfGHpawOo",
        "colab_type": "code",
        "colab": {}
      },
      "source": [
        "url_q = 'http://export.arxiv.org/api/query?search_query=all:Photovoltaic+Thermal+hybrid&start=0&max_results=20'\n",
        "data = urllib.request.urlopen(url_q).read().decode('utf-8')"
      ],
      "execution_count": 0,
      "outputs": []
    },
    {
      "cell_type": "code",
      "metadata": {
        "id": "cxGqQTJGawOs",
        "colab_type": "code",
        "colab": {}
      },
      "source": [
        "parse = lambda a,b: re.findall(\"<\" + b + \">([\\s\\S]*?)<\\/\" + b + \">\", a)\n",
        "entries = parse(str(data), \"entry\")"
      ],
      "execution_count": 0,
      "outputs": []
    },
    {
      "cell_type": "markdown",
      "metadata": {
        "id": "CRvNMUNoMSWm",
        "colab_type": "text"
      },
      "source": [
        "Show Search Result in English"
      ]
    },
    {
      "cell_type": "code",
      "metadata": {
        "id": "fSbM-JMDmujA",
        "colab_type": "code",
        "outputId": "2d5124db-ba7a-442f-a085-3453a0fb8e6f",
        "colab": {
          "base_uri": "https://localhost:8080/",
          "height": 1000
        }
      },
      "source": [
        "for entry in entries:\n",
        "    updated=parse(entry,\"updated\")[0]\n",
        "    url = parse(entry, \"id\")[0]\n",
        "    title = parse(entry, \"title\")[0]\n",
        "    author = ', '.join(parse(entry, \"name\") )\n",
        "    summary = parse(entry, \"summary\")[0].replace('\\n','')\n",
        "    print( '【updated】%s\\n【URL】%s\\n【Title】%s\\n【Author】%s\\n【Summary】%s' % (updated,url, title, author, summary) )"
      ],
      "execution_count": 49,
      "outputs": [
        {
          "output_type": "stream",
          "text": [
            "【updated】2014-09-11T02:41:17Z\n",
            "【URL】http://arxiv.org/abs/1409.3300v1\n",
            "【Title】Hybrid photovoltaic and electron-tunneling converters\n",
            "【Author】Shanhe Su, Jincan Chen, Tien-Mo Shih\n",
            "【Summary】  Photon impingement is capable of liberating electrons in semiconductors. Whenthe electron transport is primarily governed by temperature gradients, highirreversibilities will result, thus lowering converters' efficiencies. Afundamental study in the absence of photovoltaics\\cite{1} has achieved thereduction of these irreversibilities by considering entropy changes due toelectron flows. Here we present an unreported mechanism that integratesphotovoltaic conversion and electron tunneling. Photon-excited electrons thatoccupy energy levels beyond windowed limits are first imprisoned inside thecathode, then given opportunities to rapidly re-thermalize, and eventuallyallowed to enter the tunnel. Energies wasted by both the irreversibility andthe recombination are minimized with respect to the transmission energy and thetransmission window that characterize the tunnel. Upon application of thismechanism to high-concentration solar cells, the proposed hybrid modeloutperforms others. It further provides a guide for elevating efficiencies infuture photon-to-electron converters typified by third-generation photovoltaicsystems.\n",
            "【updated】2012-03-06T15:00:55Z\n",
            "【URL】http://arxiv.org/abs/1203.1216v1\n",
            "【Title】Effects on Amorphous Silicon Photovoltaic Performance from\n",
            "  High-temperature Annealing Pulses in Photovoltaic Thermal Hybrid Devices\n",
            "【Author】M. J. M. Pathak, J. M. Pearce, S. J. Harrison\n",
            "【Summary】  There is a renewed interest in photovoltaic solar thermal (PVT) hybridsystems, which harvest solar energy for heat and electricity. Typically, a mainfocus of a PVT system is to cool the photovoltaic (PV) cells to improve theelectrical performance, however, this causes the thermal component tounder-perform compared to a solar thermal collector. The low temperaturecoefficients of amorphous silicon (a-Si:H) allow for the PV cells to beoperated at higher temperatures and are a potential candidate for a moresymbiotic PVT system. The fundamental challenge of a-Si:H PV is light-induceddegradation known as the Staebler-Wronski effect (SWE). Fortunately, SWE isreversible and the a-Si:H PV efficiency can be returned to its initial state ifthe cell is annealed. Thus an opportunity exists to deposit a-Si:H directly onthe solar thermal absorber plate where the cells could reach the hightemperatures required for annealing.  In this study, this opportunity is explored experimentally. First a-Si:H PVcells were annealed for 1 hour at 100\\degreeC on a 12 hour cycle and for theremaining time the cells were degraded at 50\\degreeC in order to simulatestagnation of a PVT system for 1 hour once a day. It was found that, whencomparing the cells after stabilization at normal 50\\degreeC degradation, thisannealing sequence resulted in a 10.6% energy gain when compared to a cell thatwas only degraded at 50\\degreeC.\n",
            "【updated】2012-08-08T17:19:09Z\n",
            "【URL】http://arxiv.org/abs/1208.1715v1\n",
            "【Title】The Effect of Hybrid Photovoltaic Thermal Device Operating Conditions on\n",
            "  Intrinsic Layer Thickness Optimization of Hydrogenated Amorphous Silicon\n",
            "  Solar Cells\n",
            "【Author】M. J. M Pathak, K. Girotra, S. J. Harrison, J. M. Pearce\n",
            "【Summary】  Historically, the design of hybrid solar photovoltaic thermal (PVT) systemshas focused on cooling crystalline silicon (c-Si)-based photovoltaic (PV)devices to avoid temperature-related losses. This approach neglects theassociated performance losses in the thermal system and leads to a decrease inthe overall exergy of the system. Consequently, this paper explores the use ofhydrogenated amorphous silicon (a-Si:H) as an absorber material for PVT in aneffort to maintain higher and more favourable operating temperatures for thethermal system. Amorphous silicon not only has a smaller temperaturecoefficient than c-Si, but also can display improved PV performance overextended periods of higher temperatures by annealing out defect states from theStaebler-Wronski effect. In order to determine the potential improvements ina-Si:H PV performance associated with increased thicknesses of the i-layersmade possible by higher operating temperatures, a-Si:H PV cells were testedunder 1 sun illumination (AM1.5) at temperatures of 25oC (STC), 50oC(representative PV operating conditions), and 90 oC (representative PVToperating conditions). PV cells with an i-layer thicknesses of 420, 630 and 840nm were evaluated at each temperature. Results show that operating a-Si:H-basedPV at 90 oC, with thicker i-layers than the cells currently used in commercialproduction, provided a greater power output compared to the thinner cellsoperating at either PV or PVT operating temperatures. These results indicatethat incorporating a-Si:H as the absorber material in a PVT system can improvethe thermal performance, while simultaneously improving the electricalperformance of a-Si:H-based PV.\n",
            "【updated】2012-07-05T22:25:47Z\n",
            "【URL】http://arxiv.org/abs/1207.1476v1\n",
            "【Title】Graphene-based photovoltaic cells for near-field thermal energy\n",
            "  conversion\n",
            "【Author】Riccardo Messina, Philippe Ben-Abdallah\n",
            "【Summary】  Thermophotovoltaic devices are energy-conversion systems generating anelectric current from the thermal photons radiated by a hot body. In far field,the efficiency of these systems is limited by the thermodynamicSchockley-Queisser limit corresponding to the case where the source is a blackbody. On the other hand, in near field, the heat flux which can be transferredto a photovoltaic cell can be several orders of magnitude larger because of thecontribution of evanescent photons. This is particularly true when the sourcesupports surface polaritons. Unfortunately, in the infrared where these systemsoperate, the mismatch between the surface-mode frequency and the semiconductorgap reduces drastically the potential of this technology. Here we show thatgraphene-based hybrid photovoltaic cells can significantly enhance thegenerated power paving the way to a promising technology for an intensiveproduction of electricity from waste heat.\n",
            "【updated】2016-01-04T07:13:32Z\n",
            "【URL】http://arxiv.org/abs/1512.09224v2\n",
            "【Title】Lattice Thermal Conductivity of Organic-Inorganic Hybrid Perovskite\n",
            "  CH3NH3PbI3\n",
            "【Author】Xin Qian, Xiaokun Gu, Ronggui Yang\n",
            "【Summary】  Great success has been achieved in improving the photovoltaic energyconversion efficiency of the organic-inorganic perovskite-based solar cells,but with very limited knowledge on the thermal transport in hybrid perovskites,which would affect the device lifetime and stability. Based on the potentialdeveloped from the density functional theory calculations, we studied thelattice thermal conductivity of the hybrid halide perovskite CH3NH3PbI3 usingequilibrium molecular dynamics simulations. Temperature-dependent thermalconductivity is reported from 160 K to 400 K, which covers the tetragonal phase(160-330 K) and the pseudocubic phase (&gt;330K). A very low thermal conductivity(0.50 W/mK) is found in the tetragonal phase at room temperature, whereas amuch higher thermal conductivity is found in the pseudocubic phase (1.80 W/mKat 330 K). The low group velocity of acoustic phonons and the stronganharmonicity are found responsible for the relatively low thermal conductivityof the tetragonal CH3NH3PbI3.\n",
            "【updated】2018-01-15T16:45:15Z\n",
            "【URL】http://arxiv.org/abs/1801.04870v1\n",
            "【Title】Photovoltaic effect and photopolarization in\n",
            "  Pb[(Mg1/3Nb2/3)0.68Ti0.32]O3 crystal\n",
            "【Author】A. S. Makhort, F. Chevrier, D. Kundys, B. Doudin, B. Kundys\n",
            "【Summary】  Ferroelectric photovoltaic materials are an alternative tosemiconductor-based photovoltaics and offer the advantage of above bandgapphotovoltage generation. However, there are few known compounds, andphotovoltaic efficiencies remain low. Here, we report the discovery of aphotovoltaic effect in undoped lead magnesium niobate-lead titanate crystal anda significant improvement in the photovoltaic response under suitable electricfields and temperatures. The photovoltaic effect is maximum near theelectric-field-driven ferroelectric dipole reorientation, and increasesthreefold near the Curie temperature. Moreover, at ferroelectric saturation,the photovoltaic response exhibits clear remanent and transient effects. Thetransient-remanent combinations together with electric and thermal tuningpossibilities indicate photoferroelectric crystals as emerging elements forphotovoltaics and optoelectronics, relevant to all-optical information storageand beyond.\n",
            "【updated】2018-06-28T11:30:26Z\n",
            "【URL】http://arxiv.org/abs/1807.00673v1\n",
            "【Title】Flexibility potentials of a combined use of heat storages and batteries\n",
            "  in PV-CHP hybrid systems\n",
            "【Author】Tanja M. Kneiske, Martin Braun\n",
            "【Summary】  Due to the 2012 change in the renewable energy act the feed-in tariffs and asresult the number of newly installed photovoltaic systems decreaseddramatically in Germany. Therefore, there was the need, particularly, in theresidential sector to develop new business ideas for photovoltaic systems. Incontext of this development, combined photovoltaic and heat-power systems wereanalyzed, which provide not only electricity but also heat throughout oneentire year. Flexibilities are provided in form of thermal and electricalstorage systems leading to many possible setting options requiring anelaborated control management. In this paper, a new optimized control algorithmis proposed that in contrast to standard strategies can operate optimal evenunder incorrect weather and load forecasts. A predictive controller based on amixed integer optimization problem and an additional so called secondary,rule-based controller is combined. The controller is based on several inputdata. Depending on the choice of these data the PV-CHP hybrid system can beused for different control strategies, like maximum self-consumption, minimumCO2 emission or minimum operational costs. The main focus in this paper is tostudy if the flexibility potentials of the combined thermal and electricalstorage systems can ensure a market oriented or a grid-friendly behavior. Thisis studied in five control options. As a result we found that the controlalgorithm is stable and able to adapt to the different conditions. Inconclusion, it was discovered that the storage systems play a crucial role interms of forecast differences and parameter changes. Storage systems are asexpected the key-element for the flexibility of PV-CHP hybrid systems.\n",
            "【updated】2016-04-20T18:28:25Z\n",
            "【URL】http://arxiv.org/abs/1604.06052v1\n",
            "【Title】Caloric Effects in Methylammonium Lead Iodide from Molecular Dynamics\n",
            "  Simulations\n",
            "【Author】Shi Liu, Ronald E. Cohen\n",
            "【Summary】  Organic-inorganic hybrid perovskite architecture could serve as a robustplatform for materials design to realize functionalities beyond photovoltaicapplications. We explore caloric effects in organometal halide perovskites,taking methylammonium lead iodide (MAPbI$_3$) as an example, using all-atommolecular dynamics simulations with a first-principles based interatomicpotential. The adiabatic thermal change is estimated directly by introducingdifferent driving fields in the simulations. We find that MAPbI$_3$ exhibitsboth electrocaloric and mechanocaloric effects at room temperature. Localstructural analysis reveals that the rearrangement of molecular cations inresponse to electric and stress fields is responsible for the caloric effects.The enhancement of caloric response could be realized through strainengineering and chemical doping.\n",
            "【updated】2015-05-27T16:02:49Z\n",
            "【URL】http://arxiv.org/abs/1505.07389v1\n",
            "【Title】Tuning of the Thermoelectric Figure of Merit of CH$_3$NH$_3$MI$_3$\n",
            "  (M=Pb,Sn) Photovoltaic Perovskites\n",
            "【Author】Xavier Mettan, Riccardo Pisoni, Péter Matus, Andrea Pisoni, Jaćim Jaćimović, Bálint Náfrádi, Massimo Spina, Davor Pavuna, László Forró, Endre Horváth\n",
            "【Summary】  The hybrid halide perovskites, the very performant compounds in photovoltaicapplications, possess large Seebeck coefficient and low thermal conductivitymaking them potentially interesting high figure of merit ($ZT$) materials. Forthis purpose one needs to tune the electrical conductivity of thesesemiconductors to higher values. We have studied the CH$_3$NH$_3$MI$_3$(M=Pb,Sn) samples in pristine form showing very low $ZT$ values for bothmaterials; however, photoinduced doping (in M=Pb) and chemical doping (in M=Sn)indicate that, by further doping optimization, $ZT$ can be enhanced towardunity and reach the performance level of the presently most efficientthermoelectric materials.\n",
            "【updated】2016-08-07T10:20:30Z\n",
            "【URL】http://arxiv.org/abs/1607.01607v3\n",
            "【Title】Simultaneous band gap narrowing and carrier lifetime prolongation of\n",
            "  organic-inorganic trihalide perovskites\n",
            "【Author】Lingping Kong, Gang Liu, Jue Gong, Qingyang Hu, Richard D. Schaller, Przemyslaw Dera, Dongzhou Zhang, Zhenxian Liu, Wenge Yang, Kai Zhu, Yuzhao Tang, Chuanyi Wang, Su-Huai Wei, Tao Xu, Ho-kwang Mao\n",
            "【Summary】  The organic-inorganic hybrid lead trihalide perovskites have been emerging asthe most attractive photovoltaic material. As regulated by Shockley-Queissertheory, a formidable materials science challenge for the next level improvementrequires further band gap narrowing for broader absorption in solar spectrum,while retaining or even synergistically prolonging the carrier lifetime, acritical factor responsible for attaining the near-band gap photovoltage.Herein, by applying controllable hydrostatic pressure we have achievedunprecedented simultaneous enhancement in both band gap narrowing and carrierlifetime prolongation (up to 70~100% increase) under mild pressures at ~0.3GPa. The pressure-induced modulation on pure hybrid perovskites withoutintroducing any adverse chemical or thermal effect clearly demonstrates theimportance of band edges on the photon-electron interaction and maps apioneering route towards a further boost in their photovoltaic performance.\n",
            "【updated】2013-10-21T14:37:29Z\n",
            "【URL】http://arxiv.org/abs/1310.5570v1\n",
            "【Title】Exceeding the solar cell Shockley-Queisser limit via thermal\n",
            "  up-conversion of low-energy photons\n",
            "【Author】Svetlana V. Boriskina, Gang Chen\n",
            "【Summary】  Maximum efficiency of ideal single-junction photovoltaic (PV) cells islimited to 33% (for one sun illumination) by intrinsic losses such as band edgethermalization, radiative recombination, and inability to absorb below-bandgapphotons. This intrinsic thermodynamic limit, named after Shockley and Queisser(S-Q), can be exceeded by utilizing low-energy photons either via theirelectronic up-conversion or via thermophotovoltaic (TPV) conversion process.However, electronic up-conversion systems have extremely low efficiencies, andpractical temperature considerations limit the operation of TPV converters tothe narrow-gap PV cells. Here we develop a conceptual design of a hybrid TPVplatform, which exploits thermal up-conversion of low-energy photons and iscompatible with conventional silicon PV cells by using spectral and directionalselectivity of the up-converter. The hybrid platform offerssunlight-to-electricity conversion efficiency exceeding that imposed by the S-Qlimit on the corresponding PV cells across a broad range of bandgap energies,under low optical concentration (1-300 suns), operating temperatures in therange 900-1700K, and in simple flat panel designs. We demonstrate maximumconversion efficiency of 73% under illumination by non-concentrated sunlight. Adetailed analysis of non-ideal hybrid platforms that allows for up to 15% ofabsorption/re-emission losses yields limiting efficiency value of 45% for Si PVcells.\n",
            "【updated】2011-03-10T05:20:37Z\n",
            "【URL】http://arxiv.org/abs/1103.1938v1\n",
            "【Title】A Hybrid Density Functional Study of Oligothiophene/ZnO Interface for\n",
            "  Photovoltaics\n",
            "【Author】Na Sai, Kevin Leung, James R. Chelikowsky\n",
            "【Summary】  Organic/inorganic donor-acceptor interfaces are gaining growing attention inorganic photovoltaic applications as each component of the interface offersunique attributes. Here we use hybrid-density functional theory to examine theelectronic structure of sexithiophene/ZnO interfaces. We find that interfacialmolecular orientations strongly influence the adsorption energy, the energylevel alignment, and the open circuit voltage. We attribute the orientationdependence to the varied strength of electronic coupling between the moleculeand the substrate. Our study suggests that photovoltaic performance can beoptimized by controlling the interfacial design of molecular orientations.\n",
            "【updated】2016-12-06T09:15:32Z\n",
            "【URL】http://arxiv.org/abs/1611.08032v2\n",
            "【Title】Functionality-directed Screening of Pb-free Hybrid Organic-inorganic\n",
            "  Perovskites with Desired Intrinsic Photovoltaic Functionalities\n",
            "【Author】Dongwen Yang, Jian Lv, Xingang Zhao, Qiaoling Xu, Yuhao Fu, Yiqiang Zhan, Alex Zunger, Lijun Zhang\n",
            "【Summary】  The material class of hybrid organic-inorganic perovskites has risen rapidlyfrom a virtually unknown material in photovoltaic applications a short 7 yearsago into a ~20% efficient thin-film solar cell material. As promising as thisclass of materials is, however, there are limitations associated with its poorlong-term stability, non-optimal band gap, presence of environmentally-toxic Pbelement, etc. We herein apply a functionality-directed theoretical materialsselection approach as a filter for initial screening of the compounds thatsatisfy the desired intrinsic photovoltaic functionalities and might overcomethe above limitations. First-principles calculations are employed tosystemically study thermodynamic stability and photovoltaic-related propertiesof hundred of candidate hybrid perovskites. We have identified in thismaterials selection process fourteen Ge and Sn-based materials with potentialsuperior bulk-material-intrinsic photovoltaic performance. A distinct class ofcompounds containing NH3COH$^+$ with the organic molecule derived statesintriguingly emerging at band-edges is found. Comparison of various candidatematerials offers insights on how composition variation and microscopicstructural changes affect key photovoltaic relevant properties in this familyof materials.\n",
            "【updated】2015-11-24T16:18:39Z\n",
            "【URL】http://arxiv.org/abs/1511.07781v1\n",
            "【Title】Cesium Enhances Long-Term Stability of Lead Bromide Perovskite-Based\n",
            "  Solar Cells\n",
            "【Author】Michael Kulbak, Satyajit Gupta, Nir Kedem, Igal Levine, Tatyana Bendikov, Gary Hodes, David Cahen\n",
            "【Summary】  Direct comparison between perovskite-structured hybrid organic-inorganic -methyl ammonium lead bromide (MAPbBr3) and all-inorganic cesium lead bromide(CsPbBr3), allows identifying possible fundamental differences in theirstructural, thermal and electronic characteristics. Both materials possess asimilar direct optical band-gap, but CsPbBr3 demonstrates a higher thermalstability than MAPbBr3. In order to compare device properties we fabricatedsolar cells, with similarly synthesized MAPbBr3 or CsPbBr3, over mesoporoustitania scaffolds. Both cell types demonstrated comparable photovoltaicperformances under AM1.5 illumination, reaching power conversion efficienciesof ~6 % with a poly-aryl amine-based derivative as hole transport material.Further analysis shows that Cs-based devices are as efficient as, and morestable than methyl ammonium-based ones, after aging (storing the cells for 2weeks in a dry (relative humidity 15-20%) air atmosphere in the dark) for 2weeks, under constant illumination (at maximum power), and under electron beamirradiation.\n",
            "【updated】2014-04-29T13:09:40Z\n",
            "【URL】http://arxiv.org/abs/1404.7345v1\n",
            "【Title】Optical Refrigeration for Ultra-Efficient Photovoltaics\n",
            "【Author】Assaf Manor, Leopoldo L. Martin, Carmel Rotschild\n",
            "【Summary】  Improving the conversion efficiency of solar energy to electricity is mostimportant to mankind. For single-junction photovoltaic solar-cells, theShockley-Queisser thermodynamic efficiency limit is extensively due to the heatdissipation, inherently accompanying the quantum process of electro-chemicalpotential generation. Concepts such as solar thermo-photovoltaics andthermo-photonics, have been suggested to harness this wasted heat, yetefficiencies exceeding the Shockley-Queisser limit have not been demonstrateddue to the challenge of operating at high temperatures. Here, we present ahighly efficient converter based on endothermic photoluminescence, whichoperates at relative low temperatures. The thermally induced blue-shiftedphotoluminescence of a low-bandgap absorber is coupled to a high-bandgapphotovoltaic cell. The high absorber's photo-current and the high cell'svoltage results in 69% maximal theoretical conversion efficiencies. Weexperimentally demonstrate tenfold thermal-enhancement of useful radiation forthe high-bandgap cell and 107% enhancement in average photon energy. This pavesthe way for introducing disruptive-innovation in photovoltaics.\n",
            "【updated】2015-12-03T07:08:31Z\n",
            "【URL】http://arxiv.org/abs/1509.06230v2\n",
            "【Title】Induced effects by the substitution of Zn in Cu2ZnSnX4 (X = S and Se)\n",
            "【Author】Guohua Zhong, Kinfai Tse, Yiou Zhang, Xiaoguang Li, Li Huang, Chunlei Yang, Junyi Zhu, Zhi Zeng, Zhenyu Zhang, Xudong Xiao\n",
            "【Summary】  Based on the density functional theory with hybrid functional approach, wehave studied the structural and thermodynamic stabilities of Cu2MSnX4 (M = Zn,Mg, and Ca; X = S and Se) alloy, and have further investigated the electronicand optical properties of stable Cu2MgSnS4 and Cu2MgSnSe4 phases. Thermalstability analysis indicates that Cu2MgSnS4 and Cu2MgSnSe4 arethermodynamically stable, while Cu2CaSnS4 and Cu2CaSnSe4 are unstable. Theground state configuration of the compound changes from kesterite into stannitestructure when Zn atoms are substitued by larger Mg or Ca atoms. An energyseparation between stannite and kesterite phase similar to that of CZTS isobserved. Calculated electronic structures and optical properties suggest thatCu2MgSnS4 and Cu2MgSnSe4 can be efficient photovoltaic materials.\n",
            "【updated】2016-09-28T08:58:26Z\n",
            "【URL】http://arxiv.org/abs/1606.08673v2\n",
            "【Title】High-performance hybrid electronic devices from layered PtSe2 films\n",
            "  grown at low temperature\n",
            "【Author】Chanyoung Yim, Kangho Lee, Niall McEvoy, Maria O Brien, Sarah Riazimehr, Nina C. Berner, Conor P. Cullen, Jani Kotakoski, Jannik C. Meyer, Max C. Lemme, Georg S. Duesberg\n",
            "【Summary】  Layered two-dimensional (2D) materials display great potential for a range ofapplications, particularly in electronics. We report the large-scale synthesisof thin films of platinum diselenide (PtSe2), a thus far scarcely investigatedtransition metal dichalcogenide. Importantly, the synthesis by thermal assistedconversion is performed at 400 {\\deg}C, representing a breakthrough for thedirect integration of this novel material with silicon (Si) technology. Besidesthe thorough characterization of this new 2D material, we demonstrate itspromise for applications in high-performance gas sensing with extremely shortresponse and recovery times observed due to the 2D nature of the films.Furthermore, we realized vertically-stacked heterostructures of PtSe2 on Siwhich act as both photodiodes and photovoltaic cells. Thus this studyestablishes PtSe2 as a potential candidate for next-generation sensors and(opto-)electronic devices, using fabrication protocols compatible withestablished Si technologies.\n",
            "【updated】2014-05-08T09:17:53Z\n",
            "【URL】http://arxiv.org/abs/1405.1848v1\n",
            "【Title】Thermal response of photovoltaic cell to laser beam irradiation\n",
            "【Author】Yu-Chen Yuan, Chen-Wu Wu\n",
            "【Summary】  This paper firstly presents the concept of using dual laser beam to irradiatethe photovoltaic cell, so as to investigate the temperature dependency of theefficiency of long distance energy transmission. Next, the model on themultiple reflection and absorption of any monochromatic light in multilayerstructure has been established, and the heat generation in photovoltaic cellhas been interpreted in this work. Then, the finite element model has been setup to calculate the temperature of photovoltaic cell subjected to laserirradiation. Finally, the effect of temperature elevation on the efficiency andreliability of photovoltaic cell has been discussed to provide theoreticalreferences for designing the light-electricity conversion system.\n",
            "【updated】2015-05-06T01:59:10Z\n",
            "【URL】http://arxiv.org/abs/1505.01238v1\n",
            "【Title】Identification of Potential Replacement Materials for Lead in CH3NH3PbI3\n",
            "  using First Principle Calculations\n",
            "【Author】Kamal Choudhary\n",
            "【Summary】  There is a need for replacement material for lead due to its toxicity inorganic-inorganic hybrid halide to facilitate its wide range photovoltaicapplications. Here, first-principle calculations are used to screen some of theelements from the periodic table.\n",
            "【updated】2013-08-04T00:14:23Z\n",
            "【URL】http://arxiv.org/abs/1308.0760v1\n",
            "【Title】Hot spot runaway in thin film photovoltaics and related structures\n",
            "【Author】V. G. Karpov, A. Vasko, A. Vijh\n",
            "【Summary】  We show that thin film diode structures, such as photovoltaics and lightemitting arrays, can undergo zero threshold localized thermal runaway leadingto thermal and electrical nonuniformities spontaneously emerging in originallyuniform systems. The linear stability analysis is developed for a system ofthermally and electrically coupled two discrete diodes, and for a distributedsystem. These results are verified with numerical modeling that is not limitedto small fluctuations. The discovered instability negatively affects the deviceperformance and reliability. It follows that these problems can be mitigated byproperly designing the device geometry and thermal insulation.\n"
          ],
          "name": "stdout"
        }
      ]
    },
    {
      "cell_type": "markdown",
      "metadata": {
        "id": "Y4OgCyFihB10",
        "colab_type": "text"
      },
      "source": [
        "Sample of Google translate to Japanese. The language code is [here](https://py-googletrans.readthedocs.io/en/latest/#googletrans-languages)\n",
        "\n",
        "エラーが時々出るので、エラー処理を追加（エラーが出たら、英語のまま出力）"
      ]
    },
    {
      "cell_type": "code",
      "metadata": {
        "id": "BGv0vY-1gQ4S",
        "colab_type": "code",
        "outputId": "dffc644f-23d0-4a54-ed6b-5960aa11485d",
        "colab": {
          "base_uri": "https://localhost:8080/",
          "height": 1000
        }
      },
      "source": [
        "for entry in entries:\n",
        "    updated=parse(entry,\"updated\")[0]\n",
        "    url = parse(entry, \"id\")[0]\n",
        "    title = parse(entry, \"title\")[0]\n",
        "    title2=translator.translate(title, dest='ja')\n",
        "    title2=title2.text\n",
        "    author = ', '.join(parse(entry, \"name\") )\n",
        "    summary = parse(entry, \"summary\")[0].replace('\\n','')\n",
        "    try:\n",
        "     summary2=translator.translate(summary, dest='ja')\n",
        "     summary2=summary2.text\n",
        "     print( '【updated】%s\\n【URL】%s\\n【Title】%s\\n【Author】%s\\n【Summary】%s' % (updated,url, title2, author, summary2) )\n",
        "    except:\n",
        "      print( '【updated】%s\\n【URL】%s\\n【Title】%s\\n【Author】%s\\n【Summary】%s' % (updated,url, title, author, summary) )\n",
        "      pass"
      ],
      "execution_count": 50,
      "outputs": [
        {
          "output_type": "stream",
          "text": [
            "【updated】2014-09-11T02:41:17Z\n",
            "【URL】http://arxiv.org/abs/1409.3300v1\n",
            "【Title】ハイブリッド光起電力電子トンネリングコンバータ\n",
            "【Author】Shanhe Su, Jincan Chen, Tien-Mo Shih\n",
            "【Summary】光子の衝突は、半導体中の電子を放出することが可能です。電子輸送は、主に温度勾配によって支配されるWhenthe、highirreversibilitiesしたがってコンバータの効率を低下させる結果になります。太陽光発電の非存在下でのAfundamental研究は、{1}は、エントロピー変化に起因toelectronフローを考慮することによって、これらの不可逆性のthereductionを達成した引用。\\しますここでは、報告されていないメカニズムintegratesphotovoltaic変換して電子トンネリングを提示します。ウィンドウ限界を超えるエネルギーレベルは、第一カソード内部投獄さthatoccupy光子励起電子が、その後急速に再熱化をする機会を与えられ、そしてトンネルを入力するeventuallyallowed。不可逆andthe組換えの両方によって無駄エネルギーはトンネルを特徴付ける送信エネルギーとthetransmission窓に対して最小化されます。高濃度太陽電池、提案されたハイブリッドmodeloutperformsその他にthismechanismの適用時。さらに、第三世代photovoltaicsystemsに代表される光子対電子変換infuture効率を上昇させるためのガイドを提供します。\n",
            "【updated】2012-03-06T15:00:55Z\n",
            "【URL】http://arxiv.org/abs/1203.1216v1\n",
            "【Title】アモルファスシリコン太陽電池性能への影響から、\n",
            "  太陽光熱複合デバイスでの高温アニールパルス\n",
            "【Author】M. J. M. Pathak, J. M. Pearce, S. J. Harrison\n",
            "【Summary】熱と電気のための太陽エネルギーを収穫太陽光熱（PVT）hybridsystems、新たな関心があります。典型的には、PVTシステムのmainfocusがtheelectricalパフォーマンスを向上させるために、光起電（PV）セルを冷却することであるが、これは熱成分がtounder-行う太陽熱コレクタと比較させます。アモルファスシリコン（a-Si：H）の低いtemperaturecoefficientsは、PVセルは、より高い温度でbeoperatedとmoresymbiotic PVTシステムのための潜在的候補でありすることを可能にします。 a-Siの基本的な課題：H PVはステブラー - ロンスキー効果（SWE）として知られている光induceddegradationあります。幸いなことに、SWE isreversibleとAのa-Si：セルをアニールするifthe HのPV効率がその初期状態に戻すことができます。 Hを直接細胞をアニーリングするために必要なhightemperaturesに達する可能性が太陽熱吸収プレートonthe：このような機会は、a-Siを堆積するために存在します。本研究では、この機会を実験的に調査しています。第一のa-Si：HのPVcells、細胞は1日1回1時間のPVTシステムのsimulatestagnationするために、50 \\ degreeCで分解された12時間周期に及び残り時間100 \\ degreeCで1時間アニールしました。それは50 \\ degreeCで分解thatwas細胞と比較した場合thisannealing配列は10.6％のエネルギー利得が得られ、通常50 \\ degreeC分解に安定化した後、細胞をwhencomparing、ことが判明しました。\n",
            "【updated】2012-08-08T17:19:09Z\n",
            "【URL】http://arxiv.org/abs/1208.1715v1\n",
            "【Title】上のハイブリッド太陽光熱デバイスの動作条件の影響\n",
            "  水素化アモルファスシリコンの真性層の厚さの最適化\n",
            "  太陽電池\n",
            "【Author】M. J. M Pathak, K. Girotra, S. J. Harrison, J. M. Pearce\n",
            "【Summary】歴史的には、ハイブリッド太陽光熱（PVT）systemshasの設計は、温度関連の損失を回避するために、結晶シリコン（c-Si）系の光起電力（PV）デバイスを冷却するに焦点を当てました。このアプローチは、熱システムにおけるtheassociated性能損失を無視し、システムの全体的なエクセルギーinthe低下につながります。サーマルシステムのためのより高いと、より良好な動作温度を維持するために、aneffortにPVTのための吸収材として：したがって、この論文では、使用は、アモルファスシリコン（H-Si）をofhydrogenated探ります。アモルファスシリコンは、c-Siよりも小さい温度係数を有しているだけでなく、theStaebler  - ロンスキー効果から欠陥状態をアニールすることにより、より高い温度の改善されたPVパフォーマンスしすぎ期間を表示することができるだけでなく。より高い動作温度によってI-layersmade可能の増加厚みに関連付けられたHのPV性能のa-Si：潜在的な改善INAのa-Siを決定するために、H PVセルは、25oCの温度で1つの太陽照明（AM1.5）testedunderました（STC）、50oC（代表PV動作条件）、及び90 OC（代表PVToperating条件）。 420、630及び840nmのi層の厚さのPVセルは、各温度で評価しました。現在commercialproductionにおいて使用される細胞よりも厚いi層と、90 OCでH-basedPV、PVまたはPVT動作温度のいずれかで薄くcellsoperatingに比べてより大きな電力出力を提供し：結果は、a-Siを操作することを示しています。 HベースのPV：これらのa-Si組み込むindicatethat結果：同時のSi electricalperformanceを向上させつつPVTシステムにおける吸収体材料としてHは、熱性能をimprovetheことができます。\n",
            "【updated】2012-07-05T22:25:47Z\n",
            "【URL】http://arxiv.org/abs/1207.1476v1\n",
            "【Title】ニアフィールドの熱エネルギーのためのグラフェン・ベースの光電池\n",
            "  変換\n",
            "【Author】Riccardo Messina, Philippe Ben-Abdallah\n",
            "【Summary】熱光起電装置は、熱い体によって放射熱光子からanelectric電流を生成するエネルギー変換システムです。遠視野では、これらのシステムの効率は、ソースが黒である場合に対応thermodynamicSchockley-Queisser限界によって制限されます。一方、近接場において、光電池transferredtoことができる熱流束があるため、エバネッセント光子のthecontributionの数桁大きいことができます。 sourcesupportsはポラリトンを表面化する場合には、特にそうです。残念ながら、これらのsystemsoperateは、表面モードの周波数とsemiconductorgapとの間に不一致が大幅にこの技術の可能性を低減赤外線インチここでは、thatgrapheneベースのハイブリッド太陽電池が大幅に廃熱から電気をintensiveproductionのための有望な技術への道を舗装thegenerated力を高めることができます示しています。\n",
            "【updated】2016-01-04T07:13:32Z\n",
            "【URL】http://arxiv.org/abs/1512.09224v2\n",
            "【Title】Lattice Thermal Conductivity of Organic-Inorganic Hybrid Perovskite\n",
            "  CH3NH3PbI3\n",
            "【Author】Xin Qian, Xiaokun Gu, Ronggui Yang\n",
            "【Summary】  Great success has been achieved in improving the photovoltaic energyconversion efficiency of the organic-inorganic perovskite-based solar cells,but with very limited knowledge on the thermal transport in hybrid perovskites,which would affect the device lifetime and stability. Based on the potentialdeveloped from the density functional theory calculations, we studied thelattice thermal conductivity of the hybrid halide perovskite CH3NH3PbI3 usingequilibrium molecular dynamics simulations. Temperature-dependent thermalconductivity is reported from 160 K to 400 K, which covers the tetragonal phase(160-330 K) and the pseudocubic phase (&gt;330K). A very low thermal conductivity(0.50 W/mK) is found in the tetragonal phase at room temperature, whereas amuch higher thermal conductivity is found in the pseudocubic phase (1.80 W/mKat 330 K). The low group velocity of acoustic phonons and the stronganharmonicity are found responsible for the relatively low thermal conductivityof the tetragonal CH3NH3PbI3.\n",
            "【updated】2018-01-15T16:45:15Z\n",
            "【URL】http://arxiv.org/abs/1801.04870v1\n",
            "【Title】光起電力効果とphotopolarizationで\n",
            "  PB [（MG1 / 3Nb2 / 3）0.68Ti0.32] O3結晶\n",
            "【Author】A. S. Makhort, F. Chevrier, D. Kundys, B. Doudin, B. Kundys\n",
            "【Summary】強誘電体光起電材料は、代替tosemiconductor系太陽電池であり、上記bandgapphotovoltage生成の利点を提供します。しかし、そこにいくつかの既知の化合物であり、andphotovoltaic効率は低いまま。ここでは、ドープされていない鉛、マグネシウムニオブ酸チタン酸鉛の結晶ANDA適しelectricfieldsと温度の下で太陽光発電のレスポンスが大幅に向上における光起効果の発見を報告しています。光起電力効果は、最大周辺theelectric電界駆動型の強誘電体双極子再配向、及びキュリー温度付近increasesthreefoldあります。また、強誘電体の飽和で、太陽光発電応答が明確で残留し、過渡効果を発揮します。電気及び熱tuningpossibilitiesと共にThetransient-残留組み合わせは、全光情報storageandを超えに関連する新興素子forphotovoltaics及びオプトエレクトロニクス、としてphotoferroelectric結晶を示します。\n",
            "【updated】2018-06-28T11:30:26Z\n",
            "【URL】http://arxiv.org/abs/1807.00673v1\n",
            "【Title】熱ストレージと電池の併用の柔軟性電位\n",
            "  PV-CHPハイブリッドシステムで\n",
            "【Author】Tanja M. Kneiske, Martin Braun\n",
            "【Summary】再生可能エネルギーの2012年の変化にフィードインタリフとdecreaseddramaticallyドイツでは、新しくインストールされた太陽光発電システムの数のasResultを行動します。そのため、特に、theresidential部門で太陽光発電システムのための新しいビジネスのアイデアを開発する必要がありました。この開発のIncontext、組み合わせた太陽光発電や熱発電システムはoneentire年間を通じて電気も熱だけでなく、を提供する、wereanalyzed。柔軟性はanelaborated制御管理を必要とする多くの可能な設定オプションにつながる熱及びelectricalstorageシステムの形態で提供されます。本論文では、新たに最適化された制御algorithmisは、標準的な戦略とは対照的に、最適なevenunder間違った天気と負荷予測を操作できることを提案しました。予測コントローラはamixed整数最適化問題に基づいており、追加のいわゆる二次、規則ベースコントローラが組み合わされます。コントローラは、複数の入力データに基づいています。 PV-CHPハイブリッドシステムは、最大自己消費、minimumCO2排出量または最小運用コストのように、異なる制御戦略のためにbeusedことができ、これらのデータの選択に応じ。組み合わせた熱とelectricalstorageシステムの柔軟性電位が志向、市場またはグリッドに優しい行動を確保することができれば、この論文の主な焦点はtostudyです。 Thisisは、5つの制御オプションで研究しました。その結果として、我々はcontrolalgorithmが安定しており、さまざまな条件に適応することが可能であることがわかりました。 Inconclusionは、それがストレージシステムは、予測の違いやパラメータの変更のinterms重要な役割を果たしていることが発見されました。ストレージシステムは、PV-CHPのハイブリッドシステムの柔軟性のための重要な要素をasexpectedています。\n",
            "【updated】2016-04-20T18:28:25Z\n",
            "【URL】http://arxiv.org/abs/1604.06052v1\n",
            "【Title】メチルアンモニウムヨウ化鉛でカロリー影響分子動力学から\n",
            "  シミュレーション\n",
            "【Author】Shi Liu, Ronald E. Cohen\n",
            "【Summary】有機 - 無機ハイブリッドペロブスカイト構造はphotovoltaicapplicationsを超えて機能を実現するための材料設計のためのrobustplatformとして役立ち得ます。私たちは、メチルアンモニウムがinteratomicpotentialに基づく第一原理を持つすべての-atommolecular動力学シミュレーションを使用して、一例として、（MAPbI $ _3 $）、ヨウ化を導く取って、有機金属ハロゲン化物ペロブスカイトにカロリー効果を探ります。断熱熱変化をシミュレーションでintroducingdifferent駆動フィールドによって直接推定されています。私たちは、室温でMAPbI $ _3 $のexhibitsboth electrocaloricとmechanocaloric効果がわかります。 Localstructural分析は、電気応力フィールドの分子カチオン応答しての再配置は、カロリー応答のeffects.The増強がstrainengineeringおよび化学的ドーピングによって実現することができるカロリーを担っていることがわかります。\n",
            "【updated】2015-05-27T16:02:49Z\n",
            "【URL】http://arxiv.org/abs/1505.07389v1\n",
            "【Title】CH $ _3 $ NH $ _3 $ MIの$ _3 $の熱電性能指数のチューニング\n",
            "  （M =鉛、Sn）の太陽光ペロブスカイト\n",
            "【Author】Xavier Mettan, Riccardo Pisoni, Péter Matus, Andrea Pisoni, Jaćim Jaćimović, Bálint Náfrádi, Massimo Spina, Davor Pavuna, László Forró, Endre Horváth\n",
            "【Summary】ハイブリッドハロゲンペロブスカイト、photovoltaicapplicationsに非常にパフォーマンスの化合物は、それらを性能指数（ZT $ $）材料の潜在的に興味深い高い数字をconductivitymaking大きなゼーベック係数と低い熱を有します。目的Forthis一方がより高い値に同調thesesemiconductorsの導電性をする必要があります。我々はCH $ _3 $ NH $ _3 $ MIをbothmaterialsに対して非常に低い$ ZT $値を示す自然のままの形で$ _3 $（M =鉛、Sn）のサンプルを研究しました。しかしながら、光誘起（M = PB中）ドーピングおよび化学的ドーピング（M = Snがで）さらにドーピング最適化することにより、$ ZT $はtowardunityを強化し、現在最もefficientthermoelectric材料の性能レベルに達することができる、ことを示しています。\n",
            "【updated】2016-08-07T10:20:30Z\n",
            "【URL】http://arxiv.org/abs/1607.01607v3\n",
            "【Title】同時バンドギャップ狭小化及びキャリア寿命の延長\n",
            "  有機 - 無機三ハロゲンペロブスカイト\n",
            "【Author】Lingping Kong, Gang Liu, Jue Gong, Qingyang Hu, Richard D. Schaller, Przemyslaw Dera, Dongzhou Zhang, Zhenxian Liu, Wenge Yang, Kai Zhu, Yuzhao Tang, Chuanyi Wang, Su-Huai Wei, Tao Xu, Ho-kwang Mao\n",
            "【Summary】有機 - 無機ハイブリッドリードの三ハロゲンペロブスカイトはasthe最も魅力的な光起電材料を新興されています。ショックレー -  Queissertheoryによって調節されるように保持またはさらに相乗的にキャリア寿命、近バンドギャップ光起電力を達成する責任acritical因子を延長しながら、次のレベルにとって素晴らしい材料科学の課題は、太陽スペクトル中の広い吸収を狭くさらにバンドギャップをimprovementrequires。ここで、制御可能な静水圧を印加することによって、我々は〜0.3GPaでバンドギャップ狭小化および穏やかな圧力下carrierlifetime延長（最大70〜100％増加）の両方で同時増強をachievedunprecedentedました。有害化学的または熱的効果をwithoutintroducing純粋ハイブリッドペロブスカイトに圧力誘起変調が明確に光起電力性能のさらなるブースト向かって経路をapioneering光子 - 電子相互作用およびマップ上にバンドエッジのtheimportanceを実証します。\n",
            "【updated】2013-10-21T14:37:29Z\n",
            "【URL】http://arxiv.org/abs/1310.5570v1\n",
            "【Title】熱を介して太陽電池ショックレー -  Queisser限界を超えます\n",
            "  低エネルギー光子のアップコンバージョン\n",
            "【Author】Svetlana V. Boriskina, Gang Chen\n",
            "【Summary】このようなバンドedgethermalization、放射性再結合、及び下記bandgapphotons吸収することができないような固有損失によって、理想的な単接合太陽電池の最大効率（1太陽照明用）33％islimited（PV）セル。ショックレーとQueisser（SQ）にちなんで名付けられたこの固有の熱力学的制限は、theirelectronicアップコンバートを介して、または熱光起電（TPV）変換process.Howeverのいずれかを介して、低エネルギーの光子を利用することにより、超過することができ、電子アップコンバージョンシステムは、非常に低い効率を有します、 andpractical温度の考慮事項は、PVセルギャップ狭くtothe TPVコンバータの動作を制限します。ここでは、低エネルギー光子とスペクトルとアップコンバータのdirectionalselectivityを用いて、従来のシリコンPVセルとiscompatibleの熱アップコンバージョンを利用するハイブリッドTPVplatformの概念設計を開発します。 therange 900-1700Kにおける動作温度は、低い光学濃度（1-300サンズ）の下で、バンドギャップエネルギーの広い範囲にわたって、対応するPVセル上にS-QLIMITによって課されること超えるハイブリッドプラットフォームofferssunlight対電気変換効率そしてシンプルなフラットパネル設計インチ我々は、非濃縮太陽光による照明下で73％のmaximumconversion効率を実証します。 SiのPVcells 45％の効率の値を制限する最大15％ofabsorption /再放射損失収率を可能にする非理想的なハイブリッドプラットフォームのAdetailed分析。\n",
            "【updated】2011-03-10T05:20:37Z\n",
            "【URL】http://arxiv.org/abs/1103.1938v1\n",
            "【Title】オリゴチオフェン/ ZnOの界面のハイブリッド密度汎関数研究のための\n",
            "  太陽光発電\n",
            "【Author】Na Sai, Kevin Leung, James R. Chelikowsky\n",
            "【Summary】無機/有機ドナー・アクセプター・インターフェースは、属性offersuniqueインターフェイスの各構成要素として成長している注目の無機太陽光発電アプリケーションを集めています。ここでは、セキシチオフェン/ ZnOのインタフェースのtheelectronic構造を調べるためにハイブリッド密度汎関数理論を使用しています。私たちは、interfacialmolecular向きが強く吸着エネルギー、エネルギー準位のアラインメント、および開回路電圧に影響を与えることを見つけます。私たちは、moleculeand基板間の電子的結合の多様な強さにorientationdependence属性。私たちの研究では、太陽光発電の性能は、分子配向の界面設計を制御することにより、beoptimizedできることを示唆しています。\n",
            "【updated】2016-12-06T09:15:32Z\n",
            "【URL】http://arxiv.org/abs/1611.08032v2\n",
            "【Title】Pbフリー有機 - 無機ハイブリッドの機能指向のスクリーニング\n",
            "  理想の固有太陽光発電官能性を有するペロブスカイト\n",
            "【Author】Dongwen Yang, Jian Lv, Xingang Zhao, Qiaoling Xu, Yuhao Fu, Yiqiang Zhan, Alex Zunger, Lijun Zhang\n",
            "【Summary】ハイブリッド有機 - 無機ペロブスカイトの材料クラスは、光起電用途にrapidlyfrom実質未知物質を上昇している~20％の効率の薄膜太陽電池材料に短い7 yearsago。材料のthisclassであるとして、しかし、我々は、本明細書のフィルタとして機能指向理論materialsselectionアプローチを適用するなど、そのpoorlong長期安定性、非最適のバンドギャップ、環境毒性Pbelementの存在に関連した制限がある有望化合物の初期スクリーニングは、所望の固有の光起電力機能をthatsatisfyと制限上方overcometheかもしれません。第一原理計算はtosystemically熱力学的安定性および太陽光発電関連の候補ハイブリッドペロブスカイトの百propertiesofを研究に使用されています。我々はpotentialsuperiorバルク材料固有の太陽光発電性能とthismaterials選択プロセス14 GeおよびSn系材料で同定されています。バンドエッジで出現statesintriguingly誘導される有機分子とNH3COH $ ^ + $を含む別個のクラスofcompoundsが見出されます。様々なcandidatematerialsの比較は、組成変動とmicroscopicstructural変更は、このfamilyof材料の重要な太陽光発電関連特性にどのような影響を与えるかについての洞察を提供しています。\n",
            "【updated】2015-11-24T16:18:39Z\n",
            "【URL】http://arxiv.org/abs/1511.07781v1\n",
            "【Title】セシウムは臭化鉛ペロブスカイトベースの長期安定性を高めます\n",
            "  太陽電池\n",
            "【Author】Michael Kulbak, Satyajit Gupta, Nir Kedem, Igal Levine, Tatyana Bendikov, Gary Hodes, David Cahen\n",
            "【Summary】ペロブスカイト構造の有機 - 無機ハイブリッドメチルアンモニウムリードブロマイド（MAPbBr3）及び全無機セシウムリードブロマイド（CsPbBr3）との直接比較は、theirstructural、熱的および電気的特性の可能な根本的な違いを識別することができます。両方の材料はasimilar直接光バンドギャップを有するが、CsPbBr3はMAPbBr3よりも高い熱安定性を示します。素子特性を比較するために、我々はmesoporoustitania足場の上に、同様に合成MAPbBr3又はCsPbBr3で、細胞をfabricatedsolar。両方の細胞型は、正孔輸送material.Further分析などのポリアリールアミン系誘導体と〜6％がCSベースのデバイスがほど効率的、及びメチルよりもより安定であることを示す電力変換efficienciesofに達し、AM1.5照明下で同等photovoltaicperformancesを実証しましたアンモニウム系のもの、（最大出力で）一定の照明下で、2週間のために（暗所で乾燥（相対湿度15〜20％）は、空気雰囲気中で2週間、細胞を保存する）エージング後、電子beamirradiation下。\n",
            "【updated】2014-04-29T13:09:40Z\n",
            "【URL】http://arxiv.org/abs/1404.7345v1\n",
            "【Title】超高効率太陽電池用光冷凍\n",
            "【Author】Assaf Manor, Leopoldo L. Martin, Carmel Rotschild\n",
            "【Summary】電気への太陽エネルギーの変換効率を改善することは、人類にMOSTIMPORTANTあります。単一接合光起電太陽電池のために、theShockley-Queisser熱力学的効率の限界は、本質的に電気化学ポテンシャル世代の量子プロセスを伴う、広範囲に起因heatdissipationです。このような太陽熱光起電andthermoフォトニクスなどの概念は、この熱を無駄に活用することが示唆されている、ショックレー -  Queisser限界を超えyetefficienciesは、高温で作動するという課題にdemonstrateddueなかったです。ここで、我々は、吸熱フォトルミネッセンスに基づく相対的低温でwhichoperatesをahighly効率的な変換を示します。低バンドギャップ吸収体の熱的に誘導される青色shiftedphotoluminescence高bandgapphotovoltaicセルに結合されています。 69％の最大理論変換効率の高い吸収の光電流と高cell'svoltage結果。 Weexperimentally有用な高バンドギャップセルforthe放射線及び平均光子エネルギ107％の向上10倍熱増強を実証します。太陽光発電で破壊的イノベーションを導入するためのこのpavesthe方法。\n",
            "【updated】2015-12-03T07:08:31Z\n",
            "【URL】http://arxiv.org/abs/1509.06230v2\n",
            "【Title】Cu2ZnSnX4（X = Sで及びSe）中のZnの置換によって誘導される効果\n",
            "【Author】Guohua Zhong, Kinfai Tse, Yiou Zhang, Xiaoguang Li, Li Huang, Chunlei Yang, Junyi Zhu, Zhi Zeng, Zhenyu Zhang, Xudong Xiao\n",
            "【Summary】ハイブリッド機能アプローチの密度汎関数理論に基づいて、wehaveはCu2MSnX4（M =亜鉛、マグネシウム、及びカルシウム; X = S及びSe）の構造的および熱力学的安定性検討合金を、さらに安定したCu2MgSnS4のelectronicand光学特性を調査したとCu2MgSnSe4段階。 Cu2CaSnS4とCu2CaSnSe4が不安定な間、熱安定解析は、それがCu2MgSnS4とCu2MgSnSe4 arethermodynamically安定を示しています。 Zn原子が大きいのMgまたはCa原子によって置換されたれるstannitestructureにケステライトから化合物変化のTheground状態設定。 CZTSのと同様のスタナイトとケステライト相との間のenergyseparationはisobserved。計算された電子構造と光学的特性はthatCu2MgSnS4とCu2MgSnSe4は、効率的な太陽光発電材料とすることができ示唆しています。\n",
            "【updated】2016-09-28T08:58:26Z\n",
            "【URL】http://arxiv.org/abs/1606.08673v2\n",
            "【Title】多層PtSe2フィルムから高性能ハイブリッド用電子機器\n",
            "  低温で成長\n",
            "【Author】Chanyoung Yim, Kangho Lee, Niall McEvoy, Maria O Brien, Sarah Riazimehr, Nina C. Berner, Conor P. Cullen, Jani Kotakoski, Jannik C. Meyer, Max C. Lemme, Georg S. Duesberg\n",
            "【Summary】層状の二次元（2D）の材料は、特にエレクトロニクスに、範囲ofapplicationsための大きな可能性を表示します。私たちは、白金二セレンの大規模synthesisof薄膜（PtSe2）、これまでほとんどinvestigatedtransition金属二カルコゲニドを報告しています。重要なことに、熱assistedconversionによって合成は、シリコン（Si）技術とこの新規材料のthedirect統合のための突破口を表し、400 {\\度} Cで行われます。この新しい2D素材のBesidesthe徹底的なキャラクタリゼーションは、我々はfilms.Furthermoreの2D性質による観察極めてshortresponseと回復時間と高性能ガス検知への応用のためのitspromiseを実証し、我々はSiwhich行為としてのPtSe2の垂直方向に積み重ねられたヘテロ構造を実現しましたフォトダイオードと太陽電池の両方。したがってこれは、製造プロトコルに互換withestablishedのSi技術を用いて、次世代センサ及び（オプト）電子機器のための潜在的な候補としてPtSe2をstudyestablishes。\n",
            "【updated】2014-05-08T09:17:53Z\n",
            "【URL】http://arxiv.org/abs/1405.1848v1\n",
            "【Title】レーザビームの照射に太陽電池の熱応答\n",
            "【Author】Yu-Chen Yuan, Chen-Wu Wu\n",
            "【Summary】長距離エネルギー伝送のtheefficiencyの温度依存性を調査するために、本論文では、まず、太陽電池をirradiatetheするために、デュアルレーザービームを使用するという概念を提示しています。次に、多層構造中の任意の単色光のthemultiple反射および吸収にモデルが確立されている、光起電力cellhasの発熱は、この作業に解釈されて。次に、有限要素モデルは、レーザ照射に供光起電力セルの温度を算出するように設定されています。最後に、太陽電池の効率および信頼性上の温度上昇の影響は、光電変換システムを設計するためtheoreticalreferencesを提供することが検討されています。\n",
            "【updated】2015-05-06T01:59:10Z\n",
            "【URL】http://arxiv.org/abs/1505.01238v1\n",
            "【Title】CH3NH3PbI3中の鉛のための潜在的な代替材料の同定\n",
            "  第一原理計算を用いて、\n",
            "【Author】Kamal Choudhary\n",
            "【Summary】その広い範囲のphotovoltaicapplicationsを容易にするために、その毒性の無機 - 無機ハイブリッドハロゲン化物への鉛の代替材料が必要です。ここでは、第一原理計算は、周期表からtheelementsの一部をスクリーニングするために使用されています。\n",
            "【updated】2013-08-04T00:14:23Z\n",
            "【URL】http://arxiv.org/abs/1308.0760v1\n",
            "【Title】薄膜太陽電池および関連構造のホットスポット暴走\n",
            "【Author】V. G. Karpov, A. Vasko, A. Vijh\n",
            "【Summary】我々は、太陽光発電や発光アレイとして薄膜ダイオード構造体は、熱および電気の不均一性が自発的にoriginallyuniformシステムにおいて出現leadingtoゼロ閾値局在熱暴走を受けることができることを示しています。線形安定性解析はofthermallyと電気的に2個の個別のダイオードを結合するためのシステム、およびdistributedsystemのために開発されています。これらの結果は、小さな変動をlimitedtoされていない数値モデルを用いて検証されています。発見された不安定性は否定deviceperformance性と信頼性に影響を与えます。これらの問題は、デバイスの幾何学的形状と断熱設計byproperly軽減することができることになります。\n"
          ],
          "name": "stdout"
        }
      ]
    }
  ]
}