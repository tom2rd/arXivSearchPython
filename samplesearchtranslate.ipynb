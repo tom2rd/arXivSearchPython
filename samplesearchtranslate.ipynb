{
  "nbformat": 4,
  "nbformat_minor": 0,
  "metadata": {
    "colab": {
      "name": "samplesearchtranslate.ipynb",
      "version": "0.3.2",
      "provenance": [],
      "include_colab_link": true
    },
    "language_info": {
      "codemirror_mode": {
        "name": "ipython",
        "version": 3
      },
      "file_extension": ".py",
      "mimetype": "text/x-python",
      "name": "python",
      "nbconvert_exporter": "python",
      "pygments_lexer": "ipython3",
      "version": "3.7.3"
    },
    "kernelspec": {
      "display_name": "Python 3",
      "language": "python",
      "name": "python3"
    }
  },
  "cells": [
    {
      "cell_type": "markdown",
      "metadata": {
        "id": "view-in-github",
        "colab_type": "text"
      },
      "source": [
        "<a href=\"https://colab.research.google.com/github/tom2rd/arXivSearchPython/blob/master/samplesearchtranslate.ipynb\" target=\"_parent\"><img src=\"https://colab.research.google.com/assets/colab-badge.svg\" alt=\"Open In Colab\"/></a>"
      ]
    },
    {
      "cell_type": "markdown",
      "metadata": {
        "id": "6E1mSSKmawON",
        "colab_type": "text"
      },
      "source": [
        "# aXiv search with keywords and extract Update, title, auther, and summay.  And translate them."
      ]
    },
    {
      "cell_type": "markdown",
      "metadata": {
        "id": "rrKb5MZGO0G2",
        "colab_type": "text"
      },
      "source": [
        "Use the Google translate  \n",
        "Detail is see https://py-googletrans.readthedocs.io/en/latest/"
      ]
    },
    {
      "cell_type": "code",
      "metadata": {
        "id": "hNpNO5jEO183",
        "colab_type": "code",
        "outputId": "f32fee39-32f9-4989-bc25-0ba059a6801a",
        "colab": {
          "base_uri": "https://localhost:8080/",
          "height": 238
        }
      },
      "source": [
        "!pip install googletrans"
      ],
      "execution_count": 1,
      "outputs": [
        {
          "output_type": "stream",
          "text": [
            "Collecting googletrans\n",
            "  Downloading https://files.pythonhosted.org/packages/fd/f0/a22d41d3846d1f46a4f20086141e0428ccc9c6d644aacbfd30990cf46886/googletrans-2.4.0.tar.gz\n",
            "Requirement already satisfied: requests in /usr/local/lib/python3.6/dist-packages (from googletrans) (2.21.0)\n",
            "Requirement already satisfied: urllib3<1.25,>=1.21.1 in /usr/local/lib/python3.6/dist-packages (from requests->googletrans) (1.24.3)\n",
            "Requirement already satisfied: idna<2.9,>=2.5 in /usr/local/lib/python3.6/dist-packages (from requests->googletrans) (2.8)\n",
            "Requirement already satisfied: certifi>=2017.4.17 in /usr/local/lib/python3.6/dist-packages (from requests->googletrans) (2019.3.9)\n",
            "Requirement already satisfied: chardet<3.1.0,>=3.0.2 in /usr/local/lib/python3.6/dist-packages (from requests->googletrans) (3.0.4)\n",
            "Building wheels for collected packages: googletrans\n",
            "  Building wheel for googletrans (setup.py) ... \u001b[?25l\u001b[?25hdone\n",
            "  Stored in directory: /root/.cache/pip/wheels/50/d6/e7/a8efd5f2427d5eb258070048718fa56ee5ac57fd6f53505f95\n",
            "Successfully built googletrans\n",
            "Installing collected packages: googletrans\n",
            "Successfully installed googletrans-2.4.0\n"
          ],
          "name": "stdout"
        }
      ]
    },
    {
      "cell_type": "code",
      "metadata": {
        "id": "XLFqE0ypO6rg",
        "colab_type": "code",
        "colab": {}
      },
      "source": [
        "from googletrans import Translator\n",
        "translator = Translator()"
      ],
      "execution_count": 0,
      "outputs": []
    },
    {
      "cell_type": "code",
      "metadata": {
        "id": "yGMi6IlhawOU",
        "colab_type": "code",
        "colab": {}
      },
      "source": [
        "import urllib.request\n",
        "import datetime as dt\n",
        "import re"
      ],
      "execution_count": 0,
      "outputs": []
    },
    {
      "cell_type": "code",
      "metadata": {
        "id": "x8ly7mXCawOg",
        "colab_type": "code",
        "colab": {}
      },
      "source": [
        "basedate = dt.date.today()+dt.timedelta(days=-1)\n",
        "previousdate = basedate +dt.timedelta(days=-1)"
      ],
      "execution_count": 0,
      "outputs": []
    },
    {
      "cell_type": "markdown",
      "metadata": {
        "id": "JrFa7oS3Meiq",
        "colab_type": "text"
      },
      "source": [
        "Edit Search_query. The example, Search key words are \"Energy\" and \"Managiment\" and max results is 20 papersThe parameter detail is arXiv api page,  [here](https://arxiv.org/help/api/user-manual#query_details)"
      ]
    },
    {
      "cell_type": "code",
      "metadata": {
        "id": "ACzKfGHpawOo",
        "colab_type": "code",
        "colab": {}
      },
      "source": [
        "url_q = 'http://export.arxiv.org/api/query?search_query=all:Energy+managiment&start=0&max_results=20'\n",
        "data = urllib.request.urlopen(url_q).read().decode('utf-8')"
      ],
      "execution_count": 0,
      "outputs": []
    },
    {
      "cell_type": "code",
      "metadata": {
        "id": "cxGqQTJGawOs",
        "colab_type": "code",
        "colab": {}
      },
      "source": [
        "parse = lambda a,b: re.findall(\"<\" + b + \">([\\s\\S]*?)<\\/\" + b + \">\", a)\n",
        "entries = parse(str(data), \"entry\")"
      ],
      "execution_count": 0,
      "outputs": []
    },
    {
      "cell_type": "markdown",
      "metadata": {
        "id": "CRvNMUNoMSWm",
        "colab_type": "text"
      },
      "source": [
        "Show Search Result in English"
      ]
    },
    {
      "cell_type": "code",
      "metadata": {
        "id": "fSbM-JMDmujA",
        "colab_type": "code",
        "outputId": "0ed98a76-f946-4146-c150-18bf3f9dfe8a",
        "colab": {
          "base_uri": "https://localhost:8080/",
          "height": 1890
        }
      },
      "source": [
        "for entry in entries:\n",
        "    updated=parse(entry,\"updated\")[0]\n",
        "    url = parse(entry, \"id\")[0]\n",
        "    title = parse(entry, \"title\")[0]\n",
        "    author = ', '.join(parse(entry, \"name\") )\n",
        "    summary = parse(entry, \"summary\")[0].replace('\\n','')\n",
        "    print( '【updated】%s\\n【URL】%s\\n【Title】%s\\n【Author】%s\\n【Summary】%s' % (updated,url, title, author, summary) )"
      ],
      "execution_count": 7,
      "outputs": [
        {
          "output_type": "stream",
          "text": [
            "【updated】2018-03-03T13:28:51Z\n",
            "【URL】http://arxiv.org/abs/1803.01159v1\n",
            "【Title】Enhancement of land-use change modeling using convolutional neural\n",
            "  networks and convolutional denoising autoencoders\n",
            "【Author】Guodong Du, Liang Yuan, Kong Joo Shin, Shunsuke Managi\n",
            "【Summary】  The neighborhood effect is a key driving factor for the land-use change (LUC)process. This study applies convolutional neural networks (CNN) to captureneighborhood characteristics from satellite images and to enhance theperformance of LUC modeling. We develop a hybrid CNN model (conv-net) topredict the LU transition probability by combining satellite images andgeographical features. A spatial weight layer is designed to incorporate thedistance-decay characteristics of neighborhood effect into conv-net. As analternative model, we also develop a hybrid convolutional denoising autoencoderand multi-layer perceptron model (CDAE-net), which specifically learns latentrepresentations from satellite images and denoises the image data. Finally, aDINAMICA-based cellular automata (CA) model simulates the LU pattern. Theresults show that the convolutional-based models improve the modelingperformances compared with a model that accepts only the geographical features.Overall, conv-net outperforms CDAE-net in terms of LUC predictive performance.Nonetheless, CDAE-net performs better when the data are noisy.\n",
            "【updated】2006-07-17T14:21:03Z\n",
            "【URL】http://arxiv.org/abs/physics/0607151v1\n",
            "【Title】Analysis of a Japan government intervention on the domestic agriculture\n",
            "  market\n",
            "【Author】Nikolay K. Vitanov, Kenshi Sakai, Ivan P. Jordanov, Shunsuke Managi, Katsuhiko Demura\n",
            "【Summary】  We investigate an economic system in which one large agent - the Japangovernment changes the environment of numerous smaller agents - the Japanagriculture producers by indirect regulation of prices of agriculture goods.The reason for this intervention was that before the oil crisis in 1974 Japanagriculture production prices exhibited irregular and large amplitude changes.By means of analysis of correlations and a combination of singular spectrumanalysis (SSA), principal component analysis (PCA), and time delay phase spaceconstruction (TDPSC) we study the influence of the government measures on thedomestic piglet prices and production in Japan. We show that the governmentregulation politics was successful and leaded (i) to a decrease of thenonstationarities and to increase of predictability of the piglet price; (ii)to a coupling of the price and production cycles; (iii) to increase ofdeterminism of the dynamics of the fluctuations of piglet price around the yearaverage price. The investigated case is an example confirming the thesis that alarge agent can change in a significant way the environment of the small agentsin complex (economic or financial) systems which can be crucial for theirsurvival or extinction.\n",
            "【updated】2018-05-05T01:42:37Z\n",
            "【URL】http://arxiv.org/abs/1803.10915v2\n",
            "【Title】Modeling the spatio-temporal dynamics of land use change with recurrent\n",
            "  neural networks\n",
            "【Author】Guodong Du, Liang Yuan, Kong Joo Shin, Shunsuke Managi\n",
            "【Summary】  This study applies recurrent neural networks (RNNs), which are known for itsability to process sequential information, to model the spatio-temporaldynamics of land use change (LUC) and to forecast annual land use maps of thecity of Tsukuba, Japan. We develop two categories of RNN models: 1) simple RNN,which is the basic RNN variant, 2) three RNN variants with advanced gatedarchitecture: long short-term memory (LSTM), LSTM with peephole connection(LSTM-peephole), and gated recurrent unit (GRU) models. The four models aredeveloped using spatio-temporal data with high temporal resolution, annual datafor the periods 2000 to 2010, 2011 and 2012 to 2016 are used for training,validation and testing, respectively. The predictive performances are evaluatedusing classification metrics (accuracy and F1 score) and the map comparisonmetrics (Kappa simulation and fuzzy Kappa simulation). The results show thatall RNN models achieve F1 scores higher than 0.55, and Kappa simulations higherthan 0.47. Out of the four RNN models, LSTM and LSTM-peephole modelssignificantly outperform the other two RNN models. Furthermore, LSTM-peepholemodel slightly outperforms the LSTM model. In addition, the results indicatethat the RNN models with gated architecture, which have better ability to modellonger temporal dependency, significantly outperform the simple RNN model.Moreover, the predictive performance of LSTM-peephole model gradually decreaseswith the decrease of temporal sequential length of the training set. Theseresults demonstrate the benefit of taking temporal dependency into account tomodel the LUC process with RNNs.\n",
            "【updated】2012-02-13T17:27:58Z\n",
            "【URL】http://arxiv.org/abs/1201.6588v2\n",
            "【Title】Storing unsteady energy, like photovoltaically generated electric\n",
            "  energy, as potential energy\n",
            "【Author】Nadja Kutz\n",
            "【Summary】  A proposal to store unsteady energy in potential energy via lifting masseswith a rough quantitative overview. Some applications and methods to harvestthe potential energy are also given. A focus is put on photovoltaicallygenerated energy.\n",
            "【updated】2016-11-26T18:13:53Z\n",
            "【URL】http://arxiv.org/abs/1611.08728v1\n",
            "【Title】Green Wireless Sensor Networks with Wireless Power Transfer\n",
            "【Author】Qiao Li, Yifei Wei, Mei Song, F. R. Yu\n",
            "【Summary】  An energy cooperation policy for energy harvesting wireless sensor networks(WSNs) with wireless power transfer is proposed in this paper to balance theenergy at each sensor node and increase the total energy utilization ratio ofthe whole WSNs. Considering the unbalanced spatio-temporal properties of theenergy supply across the deployment terrain of energy harvesting WSNs and thedynamic traffic load at each sensor node, the energy cooperation problem amongsensor nodes is decomposed into two steps: the local energy storage at eachsensor node based on its traffic load to meet its own needs; within the energystorage procedure sensor nodes with excess energy transmit a part of theirenergy to nodes with energy shortage through the energy trading. Inventorytheory and game theory are respectively applied to solving the local energystorage problem at each sensor node and the energy trading problem amongmultiple sensor nodes. Numerical results show that compared with the staticenergy cooperation method without energy trading, the Stackelberg Model basedGame we design in this paper can significantly improve the trading volume ofenergy thereby increasing the utilization ratio of the harvested energy whichis unevenly distributed in the WSNs.\n",
            "【updated】2006-06-26T21:12:17Z\n",
            "【URL】http://arxiv.org/abs/hep-th/0606250v1\n",
            "【Title】A Casimir approach to dark energy\n",
            "【Author】Allan Rosencwaig\n",
            "【Summary】  We calculate the gravitational self-energy of vacuum quantum fieldfluctuations using a Casimir approach. We find that the Casimir gravitationalself-energy density can account for the measured dark energy density when theSUSY-breaking energy is approximately 5 TeV, in good agreement with currentestimates. Furthermore, the Casimir gravitational self-energy appears toprovide a quantum mechanism for the well-know geometric relation between thePlanck, SUSY and cosmological constant energy scales.\n",
            "【updated】2013-03-05T17:46:14Z\n",
            "【URL】http://arxiv.org/abs/1304.5989v1\n",
            "【Title】The Localized Energy Distribution of Dark Energy Star Solutions\n",
            "【Author】Paul Halpern, Michael Pecorino\n",
            "【Summary】  We examine the question of energy localization for an exact solution ofEinstein's equations with a scalar field corresponding to the phantom energyinterpretation of dark energy. We apply three different energy-momentumcomplexes, the Einstein, Papapetrou and M{\\o}ller prescriptions, to theexterior metric and determine the energy distribution for each. Comparing theresults, we find that the three prescriptions yield identical energydistributions.\n",
            "【updated】2017-03-02T07:25:24Z\n",
            "【URL】http://arxiv.org/abs/1703.00644v1\n",
            "【Title】Calibration Of Proton Accelerator Beam Energy\n",
            "【Author】Dan Cohen, Moshe Friedman, Michael Paul\n",
            "【Summary】  When studying the 7Li(p,n)7Be reaction with a RF accelerator, it is difficultto define the precise energy of the beam and its energy distribution, whichtogether fully define the beam, for our purpose. What we do know is thedifference between two given energies. We resolve this problem by finding areference energy and then finding another energy by examining the data,relative to the reference energy. From the difference between them we canapproximate the energy distribution for a given energy, and since we know theenergy threshold of the reaction (E_threshold for 7Li(p,n)7Be is about1880.4-1880.8 (keV)) we can calibrate the beam energy. We then determine theenergy which produce the maximum yield derivative as the reference and recordthe energy whose neutron yield is 5% of the reference energy. The data iscollected by simulating this reaction using SimLit. Since this is a simulationwe know the real energy distribution so we make a linear fit for energydistribution as function of energy difference. We tested the theory onexperimental data for which we approximate the energy distribution by othermeans, and found our new method to be accurate and satisfactory for our needs.\n",
            "【updated】2011-08-13T08:38:34Z\n",
            "【URL】http://arxiv.org/abs/1108.2777v1\n",
            "【Title】Fear: A Fuzzy-based Energy-aware Routing Protocol for Wireless Sensor\n",
            "  Networks\n",
            "【Author】Ehsan Ahvar, Alireza Pourmoslemi, Mohammad Jalil Piran\n",
            "【Summary】  Many energy-aware routing protocols have been proposed for wireless sensornetworks. Most of them are only energy savers and do not take care about energybalancing. The energy saver protocols try to decrease the energy consumption ofthe network as a whole; however the energy manager protocols balance the energyconsumption in the network to avoid network partitioning. This means thatenergy saver protocols are not necessarily energy balancing and vice versa.However, the lifetime of wireless sensor network is strictly depending onenergy consumption; therefore, energy management is an essential task to beconsidered. This paper proposes an energy aware routing protocol, named FEAR,which considers energy balancing and energy saving. It finds a fair trade-offbetween energy balancing and energy saving by fuzzy set concept. FEAR routingprotocol is simulated and evaluated by Glomosim simulator.\n",
            "【updated】2013-03-11T19:40:16Z\n",
            "【URL】http://arxiv.org/abs/1303.2636v1\n",
            "【Title】Energy Cooperation in Energy Harvesting Communications\n",
            "【Author】Berk Gurakan, Omur Ozel, Jing Yang, Sennur Ulukus\n",
            "【Summary】  In energy harvesting communications, users transmit messages using energyharvested from nature during the course of communication. With an optimumtransmit policy, the performance of the system depends only on the energyarrival profiles. In this paper, we introduce the concept of energycooperation, where a user wirelessly transmits a portion of its energy toanother energy harvesting user. This enables shaping and optimization of theenergy arrivals at the energy-receiving node, and improves the overall systemperformance, despite the loss incurred in energy transfer. We consider severalbasic multi-user network structures with energy harvesting and wireless energytransfer capabilities: relay channel, two-way channel and multiple accesschannel. We determine energy management policies that maximize the systemthroughput within a given duration using a Lagrangian formulation and theresulting KKT optimality conditions. We develop a two-dimensional directionalwater-filling algorithm which optimally controls the flow of harvested energyin two dimensions: in time (from past to future) and among users (fromenergy-transferring to energy-receiving) and show that a generalized version ofthis algorithm achieves the boundary of the capacity region of the two-waychannel.\n",
            "【updated】2008-05-17T00:24:00Z\n",
            "【URL】http://arxiv.org/abs/0805.2637v1\n",
            "【Title】Compensation of wake-field-driven energy spread in Energy Recovery\n",
            "  Linacs\n",
            "【Author】Georg H. Hoffstaetter, Yang Hao Lau\n",
            "【Summary】  Energy Recovery Linacs provide high-energy beams, but decelerate those beamsbefore dumping them, so that their energy is available for the acceleration ofnew particles. During this deceleration, any relative energy spread that iscreated at high energy is amplified by the ratio between high energy and dumpenergy. Therefore, Energy Recovery Linacs are sensitive to energy spreadacquired at high energy, e.g. from wake fields. One can compensate thetime-correlated energy spread due to wakes via energy-dependent time-of-flightterms in appropriate sections of an Energy Recovery Linac, and viahigh-frequency cavities. We show that nonlinear time-of-flight terms can onlyeliminate odd orders in the correlation between time and energy, if these termsare created by a beam transport within the linac that is common foraccelerating and decelerating beams. If these two beams are separated, so thatdifferent beam transport sections can be used to produce time-of-flight termssuitable for each, also even-order terms in the energy spread can beeliminated. As an example, we investigate the potential of using this methodfor the Cornell x-ray Energy Recovery Linac. Via quadratic time-of-flightterms, the energy spread can be reduced by 66%. Alternatively, since the energyspread from the dominantly resistive wake fields of the analysed accelerator isapproximately harmonic in time, a high-frequency cavity could diminish theenergy spread by 81%. This approach would require bunch-lengthening andrecompression in separate sections for accelerating and decelerating beams.Such sections have therefore been included in Cornell's x-ray Energy RecoveryLinac design.\n",
            "【updated】2014-07-09T16:48:53Z\n",
            "【URL】http://arxiv.org/abs/1407.2558v1\n",
            "【Title】Energy density matrix formalism for interacting quantum systems: a\n",
            "  quantum Monte Carlo study\n",
            "【Author】Jaron T. Krogel, Jeongnim Kim, Fernando A. Reboredo\n",
            "【Summary】  We develop an energy density matrix that parallels the one-body reduceddensity matrix (1RDM) for many-body quantum systems. Just as the density matrixgives access to the number density and occupation numbers, the energy densitymatrix yields the energy density and orbital occupation energies. Theeigenvectors of the matrix provide a natural orbital partitioning of the energydensity while the eigenvalues comprise a single particle energy spectrumobeying a total energy sum rule. For mean-field systems the energy densitymatrix recovers the exact spectrum. When correlation becomes important, theoccupation energies resemble quasiparticle energies in some respects. Weexplore the occupation energy spectrum for the finite 3D homogeneous electrongas in the metallic regime and an isolated oxygen atom with ground statequantum Monte Carlo techniques implemented in the QMCPACK simulation code. Theoccupation energy spectrum for the homogeneous electron gas can be described byan effective mass below the Fermi level. Above the Fermi level evanescentbehavior in the occupation energies is observed in similar fashion to theoccupation numbers of the 1RDM. A direct comparison with total energydifferences shows a quantitative connection between the occupation energies andelectron addition and removal energies for the electron gas. For the oxygenatom, the association between the ground state occupation energies and particleaddition and removal energies becomes only qualitative. The energy densitymatrix provides a new avenue for describing energetics with quantum Monte Carlomethods which have traditionally been limited to total energies.\n",
            "【updated】2014-06-24T14:52:35Z\n",
            "【URL】http://arxiv.org/abs/1406.6265v1\n",
            "【Title】Extending the Energy Framework for Network Simulator 3 (ns-3)\n",
            "【Author】Cristiano Tapparello, Hoda Ayatollahi, Wendi Heinzelman\n",
            "【Summary】  The problem of designing and simulating optimal transmission protocols forenergy harvesting wireless networks has recently received considerableattention, thus requiring for an accurate modeling of the energy harvestingprocess and a consequent redesign of the simulation framework to include it.While the current ns-3 energy framework allows the definition of new energysources that incorporate the contribution of an energy harvester, theintegration of an energy harvester component into an existing energy source isnot straightforward using the existing energy framework. In this poster, wepropose an extension of the energy framework currently released with ns-3 inorder to explicitly introduce the concept of an energy harvester. Starting fromthe definition of the general interface, we then provide the implementation oftwo simple models for the energy harvester. In addition, we extend the set ofimplementations of the current energy framework to include a model for asupercapacitor energy source and a device energy model for the energyconsumption of a sensor. Finally, we introduce the concept of an energypredictor, that gathers information from the energy source and harvester anduse this information to predict the amount of energy that will be available inthe future, and we provide an example implementation. As a result of theseefforts, we believe that our contributions to the ns-3 energy framework willprovide a useful tool to enhance the quality of simulations of energy-awarewireless networks.\n",
            "【updated】2013-03-19T13:07:27Z\n",
            "【URL】http://arxiv.org/abs/1303.4579v1\n",
            "【Title】The Mimimum 3-Covering Energy of Complete Graphs\n",
            "【Author】Paul August Winter\n",
            "【Summary】  In this paper we introduce a different kind of graph energy, the minimum3-covering energy of a graph, and determine the minimum 3-covering energy ofcomplete graphs.\n",
            "【updated】1994-03-18T23:03:46Z\n",
            "【URL】http://arxiv.org/abs/gr-qc/9403039v1\n",
            "【Title】Quasilocal energy conditions\n",
            "【Author】Geoff Hayward\n",
            "【Summary】  The classical value of the Hamiltonian for a system with timelike boundaryhas been interpreted as a quasilocal energy. This quasilocal energy is notpositive definite. However, we derive a `quasilocal dominant energy condition'which is the natural consequence of the local dominant energy condition. Wediscuss some implications of this quasilocal energy condition. In particular,we find that it implies a `quasilocal weak energy condition'.\n",
            "【updated】2004-05-27T18:21:51Z\n",
            "【URL】http://arxiv.org/abs/physics/0405143v2\n",
            "【Title】Energy conservation laws in classical electrodynamics\n",
            "【Author】Valery P. Dmitriyev\n",
            "【Summary】  There are three electromagnetic integrals of motion that can be interpretedas the energy. These are the background energy, the elastic energy and theintegral in the torsion field commonly referred to as the energy of theelectromagnetic field. The integral in the torsion field gains the meaning ofthe energy insomuch as it is concerned with the mechanical energy of a chargedparticle.\n",
            "【updated】2005-08-27T05:27:38Z\n",
            "【URL】http://arxiv.org/abs/nucl-th/0508056v1\n",
            "【Title】Proton-neutron pairing energies in N=Z nuclei at finite temperature\n",
            "【Author】K. Kaneko, M. Hasegawa\n",
            "【Summary】  Thermal behavior of isoscalar and isovector proton-neutron (pn) pairingenergies at finite temperature are investigated by the shell modelcalculations. These pn pairing energies can be estimated by double differencesof \"thermal\" energies which are extended from the double differences of bindingenergies as the indicators of pn pairing energies at zero temperature. We foundthat the delicate balance between isoscalar and isovector pn pairing energiesat zero temperature disappears at finite temperature. When temperature rises,while the isovector pn pairing energy decreases, the isoscalar pn pairingenergy rather increases. We discuss also the symmetry energy at finitetemperature.\n",
            "【updated】2007-01-29T02:51:25Z\n",
            "【URL】http://arxiv.org/abs/physics/0701314v1\n",
            "【Title】Double energy differential cross sections for the Coulomb four-body\n",
            "  problem in a quasiclassical framework\n",
            "【Author】Agapi Emmanouilidou\n",
            "【Summary】  In a quasiclassical framework, we formulate the double energy differentialcross sections for the Coulomb four-body problem. We present results for thetriple photoionization from the Li ground state at 220.5, 115, 50 and 3.8 eVexcess energies. With the energy of one of the electrons kept fixed, the doubleenergy differential cross sections at 220.5 and 115 excess energies are foundto be of \"U-shape\" (unequal energy sharing), with those at 115 eV being in verygood agreement with ab-initio results. At 50 eV, it seems that a transitionstarts taking place to more equal energy sharing configurations. Close tothreshold, at 3.8 eV excess energy, the equal energy sharing configurations arethe dominant ones.\n",
            "【updated】2009-12-22T14:19:36Z\n",
            "【URL】http://arxiv.org/abs/0901.3711v2\n",
            "【Title】The Energy Problem\n",
            "【Author】Giorgio Giacomelli\n",
            "【Summary】  A brief general picture of the world, european and italian energy situationsis made, analyzing several different energy sources and paying attention to therelations energy-quality of life, energy-environment and energy-health. Thenwill be discussed fossil fuels, renewable energies, the role of electricenergy, nuclear energy, energy savings, the greenhouse effect, a possiblesustainable development, the hydrogen economy and the risk and its perception.Then follow the conclusions and perspectives.\n",
            "【updated】2018-08-13T01:05:18Z\n",
            "【URL】http://arxiv.org/abs/1808.04032v1\n",
            "【Title】Modeling and Simulation of Regenerative Braking Energy in DC Electric\n",
            "  Rail Systems\n",
            "【Author】M. Khodaparastan, A. Mohamed\n",
            "【Summary】  Regenerative braking energy is the energy produced by a train duringdeceleration. When a train decelerates, the motors act as generators andproduce electricity. This energy can be fed back to the third rail and consumedby other trains accelerating nearby. If there are no nearby trains, this energyis dumped as heat to avoid over voltage. Regenerative braking energy can besaved by installing energy storage systems (ESS) and reused later when it isneeded. To find a suitable design, size and placement of energy storage, a goodunderstanding of this energy is required. The aim of this paper is to model andsimulate regenerative braking energy. The dc electric rail transit system modelintroduced in this paper includes trains, substations and rail systems.\n"
          ],
          "name": "stdout"
        }
      ]
    },
    {
      "cell_type": "markdown",
      "metadata": {
        "id": "Y4OgCyFihB10",
        "colab_type": "text"
      },
      "source": [
        "Sample of Google translate to Japanese. The language code is [here](https://py-googletrans.readthedocs.io/en/latest/#googletrans-languages)"
      ]
    },
    {
      "cell_type": "code",
      "metadata": {
        "id": "BGv0vY-1gQ4S",
        "colab_type": "code",
        "outputId": "5f671f66-ce2f-4bd9-ec16-d03637b2bd04",
        "colab": {
          "base_uri": "https://localhost:8080/",
          "height": 1890
        }
      },
      "source": [
        "for entry in entries:\n",
        "    updated=parse(entry,\"updated\")[0]\n",
        "    url = parse(entry, \"id\")[0]\n",
        "    title = parse(entry, \"title\")[0]\n",
        "    title2=translator.translate(title, dest='ja')\n",
        "    title2=title2.text\n",
        "    author = ', '.join(parse(entry, \"name\") )\n",
        "    summary = parse(entry, \"summary\")[0].replace('\\n','')\n",
        "    summary2=translator.translate(summary, dest='ja')\n",
        "    summary2=summary2.text\n",
        "    print( '【updated】%s\\n【URL】%s\\n【Title】%s\\n【Author】%s\\n【Summary】%s' % (updated,url, title2, author, summary2) )"
      ],
      "execution_count": 9,
      "outputs": [
        {
          "output_type": "stream",
          "text": [
            "【updated】2018-03-03T13:28:51Z\n",
            "【URL】http://arxiv.org/abs/1803.01159v1\n",
            "【Title】畳込みニューラルを用いた土地利用変化モデリングの強化\n",
            "  ネットワークと畳み込みノイズ除去オートエンコーダ\n",
            "【Author】Guodong Du, Liang Yuan, Kong Joo Shin, Shunsuke Managi\n",
            "【Summary】近隣効果は、土地利用変化（LUC）プロセスの重要な推進要因です。本研究は衛星画像から近隣の特性を捕獲しLUCモデリングの性能を向上させるために畳み込みニューラルネットワーク（CNN）を適用する。衛星画像と地理的特徴を組み合わせてLU遷移確率を予測するハイブリッドCNNモデル（conv-net）を開発した。空間ウェイトレイヤは、近傍効果の距離減衰特性をconv-netに組み込むように設計されています。代替モデルとして、衛星画像から潜在的表現を学習し、画像データを雑音除去するハイブリッド畳込み雑音除去自動符号化と多層パーセプトロンモデル（CDAEネット）も開発した。最後に、DINAMICAベースのセルラオートマトン（CA）モデルはLUパターンをシミュレートします。結果は、たたみ込みベースモデルは地理的特徴のみを受け入れるモデルと比較してモデリング性能を改善することを示した。全体として、convネットはLUC予測性能に関してCDAEネットより性能が優れている。 。\n",
            "【updated】2006-07-17T14:21:03Z\n",
            "【URL】http://arxiv.org/abs/physics/0607151v1\n",
            "【Title】国内農業に対する日本政府の介入の分析\n",
            "  市場\n",
            "【Author】Nikolay K. Vitanov, Kenshi Sakai, Ivan P. Jordanov, Shunsuke Managi, Katsuhiko Demura\n",
            "【Summary】農産物価格の間接的な規制によって、1つの大きなエージェント - 日本政府が多数のより小さなエージェント - 日本の農業生産者の環境を変える経済システムを調査します。不規則で大きな振幅変化日本での生産。我々は、政府規制政治が成功しており、（i）非定常性の減少と子豚価格の予測可能性の増加につながったことを示す。 （ii）価格と生産サイクルの結合。 （iii）子豚の価格の変動の動力学の動力学の決定論を年平均価格を中心に増加させること。調査された事例は、彼らの生存または絶滅にとって決定的となり得る複雑な（経済的または財政的）システムにおける小型エージェントの環境を、大型エージェントが大きく変化させることができるという説を確認する例です。\n",
            "【updated】2018-05-05T01:42:37Z\n",
            "【URL】http://arxiv.org/abs/1803.10915v2\n",
            "【Title】再発に伴う土地利用変化の時空間ダイナミクスのモデリング\n",
            "  ニューラルネットワーク\n",
            "【Author】Guodong Du, Liang Yuan, Kong Joo Shin, Shunsuke Managi\n",
            "【Summary】本研究では、逐次情報を処理する能力で知られているリカレントニューラルネットワーク（RNN）を適用して、土地利用変化（LUC）の時空間ダイナミクスをモデル化し、日本のつくば市の年間土地利用マップを予測する。 2つのカテゴリーのRNNモデルを開発します。1）基本的なRNNバリアントである単純なRNN、2）アドバンストゲートアーキテクチャを持つ3つのRNNバリアント：ロングショートタームメモリ（LSTM）、ピープホール接続付きLSTM（LSTM-peephole）、およびゲートリカレントユニット（GRU）モデル４つのモデルは、高い時間分解能を有する時空間データを使用して開発され、２０００年から２０１０年、２０１１年、および２０１２年から２０１６年の期間の年次データがそれぞれ訓練、検証および試験に使用される。予測性能は、分類メトリクス（精度およびＦ１スコア）およびマップ比較メトリクス（カッパシミュレーションおよびファジィカッパシミュレーション）を使用して評価される。結果は、すべてのRNNモデルが0.55より高いF1スコアを達成し、Kappaシミュレーションが0.47より高いことを示している。 ４つのＲＮＮモデルのうち、ＬＳＴＭおよびＬＳＴＭピープホールモデルは他の２つのＲＮＮモデルよりも著しく優れている。さらに、LSTMピープホールモデルはLSTMモデルよりもわずかに優れています。さらに、結果は、時間依存性をモデル化するより良い能力を持つゲートアーキテクチャを持つRNNモデルは単純なRNNモデルよりも著しく優れていることを示した。さらに、LSTMピープホールモデルの予測性能は訓練の時間的逐次長の減少と共に徐々に低下した。セット。これらの結果は、ＲＮＮを用いたＬＵＣプロセスをモデル化するために時間依存性を考慮に入れることの利点を実証する。\n",
            "【updated】2012-02-13T17:27:58Z\n",
            "【URL】http://arxiv.org/abs/1201.6588v2\n",
            "【Title】太陽光発電電気のような非定常エネルギーの保存\n",
            "  ポテンシャルエネルギーとしてのエネルギー\n",
            "【Author】Nadja Kutz\n",
            "【Summary】大まかな定量的概観を用いた揚力質量による非定常エネルギーの位置エネルギーへの貯蔵位置エネルギーを収穫するためのいくつかの応用と方法もまた与えられている。焦点は太陽光発電エネルギーに置かれます。\n",
            "【updated】2016-11-26T18:13:53Z\n",
            "【URL】http://arxiv.org/abs/1611.08728v1\n",
            "【Title】無線電力伝送を用いたグリーン無線センサネットワーク\n",
            "【Author】Qiao Li, Yifei Wei, Mei Song, F. R. Yu\n",
            "【Summary】本稿では、各センサノードにおけるエネルギーのバランスをとり、全WSNの総エネルギー利用率を高めるために、ワイヤレス電力伝送を伴うエネルギーハーベスティングワイヤレスセンサネットワーク（WSN）のためのエネルギー協調政策を提案した。エネルギーハーベスティングWSNの展開領域にわたるエネルギー供給の不均衡な時空間特性と各センサーノードでの動的トラフィ​​ック負荷を考慮して、センサーノード間のエネルギー協調問題は2つのステップに分解される：そのトラフィックに基づく各センサーノードでの局所エネルギー貯蔵自分のニーズを満たすために負荷をかける。エネルギー貯蔵手順内で、過剰エネルギーを有するセンサーノードは、エネルギー交換を通じてエネルギー不足を有するノードにエネルギーの一部を送信する。在庫理論とゲーム理論はそれぞれ各センサノードでの局所エネルギー貯蔵問題と複数のセンサノード間のエネルギー取引問題を解くために適用される。数値結果は、エネルギー取引を伴わないstaticenergy協力法と比較して、本論文で設計したStackelberg Model basedGameはエネルギーの取引量を著しく改善することができ、それによってWSNに偏在している収穫エネルギーの利用率を増加する。\n",
            "【updated】2006-06-26T21:12:17Z\n",
            "【URL】http://arxiv.org/abs/hep-th/0606250v1\n",
            "【Title】暗黒エネルギーへのCasimirアプローチ\n",
            "【Author】Allan Rosencwaig\n",
            "【Summary】Casimirアプローチを用いて真空量子場ゆらぎの重力自己エネルギーを計算する。現在の見積もりとよく一致して、SUSY破砕エネルギーが約5 TeVのとき、Casimirの重力的自己エネルギー密度が測定された暗黒エネルギー密度を説明できることがわかった。さらに、Casimir重力自己エネルギーは、Planck、SUSY、および宇宙論的定エネルギースケールの間のよく知られた幾何学的関係に対する量子メカニズムを提供するように思われる。\n",
            "【updated】2013-03-05T17:46:14Z\n",
            "【URL】http://arxiv.org/abs/1304.5989v1\n",
            "【Title】暗黒エネルギースター解の局所化エネルギー分布\n",
            "【Author】Paul Halpern, Michael Pecorino\n",
            "【Summary】暗黒エネルギーのファントムエネルギー解釈に対応するスカラー場を持つアインシュタイン方程式の厳密解のためのエネルギー局在化の問題を調べる。 3つの異なるエネルギー運動量複合体、アインシュタイン、パパペトルー、およびM {\\ o}その他の処方を外部計量に適用し、それぞれのエネルギー分布を決定します。結果を比較すると、我々は３つの処方が同一のエネルギー分布をもたらすことを見出した。\n",
            "【updated】2017-03-02T07:25:24Z\n",
            "【URL】http://arxiv.org/abs/1703.00644v1\n",
            "【Title】陽子加速器ビームエネルギーの較正\n",
            "【Author】Dan Cohen, Moshe Friedman, Michael Paul\n",
            "【Summary】ＲＦ加速器を用いて７ Ｌｉ（ｐ、ｎ）７ Ｂｅ反応を研究するとき、我々の目的のために、ビームの正確なエネルギーおよびそのエネルギー分布を定義することは困難である。私たちが知っていることは二つの与えられたエネルギー間の違いです。この問題を解決するには、参照エネルギーを見つけ、次に参照エネルギーに対してデータを調べて別のエネルギーを見つけます。それらの差から、所与のエネルギーに対するエネルギー分布を近似することができ、反応のエネルギーしきい値（７Ｌｉ（ｐ、ｎ）７Ｂｅに対するＥしきい値）が分かっているので、ビームエネルギーを較正することができる。 。次に、最大収率導関数を生成するエネルギーを基準として決定し、中性子収率が基準エネルギーの５％であるエネルギーを記録する。 SimLitを用いてこの反応をシミュレートすることによってデータを収集する。これはシミュレーションなので実際のエネルギー分布を知っているので、エネルギー差の関数としてエネルギー分布に線形フィットを行います。我々は他の手段によってエネルギー分布を近似するための理論的な実験データを試験し、そして我々の新しい方法が我々のニーズに対して正確かつ満足できるものであることを見出した。\n",
            "【updated】2011-08-13T08:38:34Z\n",
            "【URL】http://arxiv.org/abs/1108.2777v1\n",
            "【Title】恐怖：無線センサのためのファジィベースのエネルギーを意識したルーティングプロトコル\n",
            "  ネットワーク\n",
            "【Author】Ehsan Ahvar, Alireza Pourmoslemi, Mohammad Jalil Piran\n",
            "【Summary】多くのエネルギーを意識したルーティングプロトコルが無線センサネットワーク用に提案されてきた。それらのほとんどはエネルギーを節約するだけであり、エネルギーのバランスを考慮しません。省電力プロトコルは、ネットワーク全体のエネルギー消費量を削減しようとします。しかしながら、エネルギーマネージャプロトコルは、ネットワーク分割を回避するためにネットワーク内のエネルギー消費のバランスをとる。これは、エネルギー節約プロトコルが必ずしもエネルギーのバランスをとるわけではなく、その逆も同じであることを意味します。ただし、ワイヤレスセンサーネットワークの寿命は厳密に1つのエネルギー消費に依存します。そのため、エネルギー管理は重要な課題です。本稿では、FEARと名付けられたエネルギーを意識したルーティングプロトコルを提案する。これは、エネルギーバランスとエネルギー節約を考慮している。それはファジー集合概念によるエネルギーバランスとエネルギー節約の間の公正なトレードオフを見いだす。 FEARルーティングプロトコルはGlomosimシミュレータによってシミュレートされ評価されます。\n",
            "【updated】2013-03-11T19:40:16Z\n",
            "【URL】http://arxiv.org/abs/1303.2636v1\n",
            "【Title】環境発電通信におけるエネルギー協調\n",
            "【Author】Berk Gurakan, Omur Ozel, Jing Yang, Sennur Ulukus\n",
            "【Summary】エナジーハーベスティング通信では、ユーザーは通信の過程で自然から得たエナジーを使用してメッセージを送信します。最適送信ポリシーでは、システムの性能はエネルギー到着プロファイルにのみ依存します。本稿では、エネルギー協調の概念を紹介します。ここでは、ユーザーがそのエネルギーの一部を別のエネルギー収集ユーザーにワイヤレスで送信します。これにより、エネルギー受信ノードへのエネルギー到着の整形および最適化が可能になり、エネルギー伝達で生じる損失にもかかわらず、システム全体の性能が向上する。我々は、エネルギー獲得及び無線エネルギー伝達能力を有するいくつかの基本的なマルチユーザネットワーク構造、すなわちリレーチャネル、双方向チャネル及び多重アクセスチャネルを検討する。我々は、ラグランジュ定式化と結果として生じるＫＫＴ最適条件を用いて、所与の期間内にシステムスループットを最大化するエネルギー管理方針を決定する。時間的に（過去から未来へ）そして利用者間で（エネルギー伝達からエネルギー受容へ）二次元で収穫エネルギーの流れを最適に制御する二次元指向性注水アルゴリズムを開発し、このアルゴリズムの一般化バージョンが達成することを示す双方向チャネルの容量領域の境界\n",
            "【updated】2008-05-17T00:24:00Z\n",
            "【URL】http://arxiv.org/abs/0805.2637v1\n",
            "【Title】エネルギー回収における航跡場駆動エネルギー拡散の補償\n",
            "  リニアック\n",
            "【Author】Georg H. Hoffstaetter, Yang Hao Lau\n",
            "【Summary】エネルギー回収リニアックは高エネルギーのビームを供給しますが、それらを投射する前にそれらのビームを減速させるので、それらのエネルギーは新しい粒子の加速に利用できます。この減速の間、高エネルギーで生じる相対的なエネルギーの広がりは、高エネルギーとダンプエネルギーの間の比率によって増幅される。それ故、エネルギー回収リニアックは、高エネルギーで得られるエネルギーの広がりに敏感である。ウェイクフィールドから。 Energy Recovery Linacの適切なセクションにあるエネルギー依存の飛行時間項と、高周波キャビティを介して、ウェイクによる時間相関エネルギー拡散を補正することができます。非線形飛行時間項は、加速ビームと減速ビームに共通のリニアック内のビーム輸送によって生成された場合、時間とエネルギーの間の相関における奇数次数しか排除できないことを示す。これら２つのビームが分離されている場合、異なるビーム輸送セクションを使用してそれぞれに適した飛行時間の項を生成することができ、エネルギー拡散における偶数次の項も排除することができる。例として、コーネルのX線エネルギー回収リニアックにこの方法を使用する可能性を調べます。二次飛行時間型では、エネルギーの広がりを66％減らすことができます。あるいは、解析された加速器の主に抵抗性の後流場からのエネルギー拡散は時間的にほぼ高調波であるので、高周波空洞はエネルギー拡散を８１％減少させる可能性がある。このアプローチは、ビームを加速および減速するために別々のセクションでのバンチ延長および再圧縮を必要とするであろう。したがって、そのようなセクションはコーネルのＸ線エネルギー回復線形設計に含まれてきた。\n",
            "【updated】2014-07-09T16:48:53Z\n",
            "【URL】http://arxiv.org/abs/1407.2558v1\n",
            "【Title】相互作用する量子系に対するエネルギー密度行列形式：a\n",
            "  量子モンテカルロ研究\n",
            "【Author】Jaron T. Krogel, Jeongnim Kim, Fernando A. Reboredo\n",
            "【Summary】多体量子系のための一体減少密度行列（1RDM）に平行するエネルギー密度行列を開発した。密度行列から数密度と占有数にアクセスできるように、エネルギー密度行列からエネルギー密度と軌道占有エネルギーが求められます。行列の固有ベクトルは、エネルギー密度の自然軌道分割を提供し、一方、固有値は、総エネルギー合計則に従う単一粒子エネルギースペクトルを含む。平均場システムの場合、エネルギー密度行列は正確なスペクトルを回復します。相関が重要になると、いくつかの点で占有エネルギーは準粒子エネルギーに似ています。 QMCPACKシミュレーションコードに実装された基底状態量子モンテカルロ法を用いて、金属領域での有限3D均一電子ガスと孤立酸素原子の占有エネルギースペクトルを調べた。均質電子ガスの占有エネルギースペクトルは、フェルミ準位以下の有効質量で表すことができる。フェルミレベルを超えると、占有エネルギーにおけるエバネッセント挙動は、１ＲＤＭの占有数と同様に観察される。全エネルギー差との直接比較は、電子ガスについての占有エネルギーと電子付加エネルギーと除去エネルギーとの間の定量的関係を示す。酸素原子については、基底状態の占有エネルギーと粒子の添加および除去エネルギーとの間の関係は定性的になるだけである。エネルギー密度行列は、伝統的に全エネルギーに限定されてきた量子モンテカルロ法でエネルギー論を記述するための新しい道を提供する。\n",
            "【updated】2014-06-24T14:52:35Z\n",
            "【URL】http://arxiv.org/abs/1406.6265v1\n",
            "【Title】ネットワークシミュレータ3のエネルギーフレームワークの拡張（ns-3）\n",
            "【Author】Cristiano Tapparello, Hoda Ayatollahi, Wendi Heinzelman\n",
            "【Summary】エネルギー獲得無線ネットワークのための最適伝送プロトコルの設計およびシミュレーションの問題は最近かなりの注目を集めており、したがってエネルギー獲得プロセスの正確なモデル化およびそれを含むシミュレーションフレームワークの再設計が必要である。エネルギーハーベスタの貢献を組み込んだ新しいエネルギー源の定義、既存のエネルギー源へのエネルギーハーベスタ構成要素の統合は、既存のエネルギー枠組みを使用して簡単ではない。このポスターでは、エネルギーハーベスタの概念を明確に紹介するために、ns-3で現在リリースされているエネルギーフレームワークの拡張を提案します。一般的なインタフェースの定義から始めて、次に、エネルギーハーベスタ用の2つの単純なモデルの実装を提供します。さらに、現在のエネルギー枠組みの一連の実装を拡張して、スーパーキャパシターエネルギー源のモデルとセンサーのエネルギー消費量のデバイスエネルギーモデルを含めます。最後に、エネルギー源とハーベスタから情報を収集し、この情報を使用して将来利用可能になるエネルギー量を予測するエネルギー予測の概念を紹介し、実装例を示します。これらの努力の結果として、我々はns-3エネルギーフレームワークへの我々の貢献がエネルギーを意識した無線ネットワークのシミュレーションの質を高めるための有用なツールを提供するであろうと信じる。\n",
            "【updated】2013-03-19T13:07:27Z\n",
            "【URL】http://arxiv.org/abs/1303.4579v1\n",
            "【Title】完全グラフの最小3被覆エネルギー\n",
            "【Author】Paul August Winter\n",
            "【Summary】本稿では、異なる種類のグラフエネルギーであるグラフの最小3被覆エネルギーを紹介し、完全グラフの最小3被覆エネルギーを決定する。\n",
            "【updated】1994-03-18T23:03:46Z\n",
            "【URL】http://arxiv.org/abs/gr-qc/9403039v1\n",
            "【Title】準局所エネルギー条件\n",
            "【Author】Geoff Hayward\n",
            "【Summary】時系列の境界をもつ系に対するハミルトニアンの古典的な値は準局所エネルギーとして解釈されてきました。この準局所エネルギーは明確ではありません。しかしながら、我々は、局所的支配的エネルギー条件の自然な帰結である「準局所的支配的エネルギー条件」を導出する。この準局所的エネルギー条件のいくつかの意味を議論する。特に、それは「準局所的な弱いエネルギー条件」を意味することがわかりました。\n",
            "【updated】2004-05-27T18:21:51Z\n",
            "【URL】http://arxiv.org/abs/physics/0405143v2\n",
            "【Title】古典的電気力学におけるエネルギー保存則\n",
            "【Author】Valery P. Dmitriyev\n",
            "【Summary】エネルギーとして解釈することができる運動の３つの電磁的積分がある。これらは、バックグラウンドエネルギー、弾性エネルギー、および一般に電磁場のエネルギーと呼ばれるねじれ場の整数である。ねじれ場における積分は、荷電粒子の機械的エネルギーに関係しているので、エネルギーの意味を得る。\n",
            "【updated】2005-08-27T05:27:38Z\n",
            "【URL】http://arxiv.org/abs/nucl-th/0508056v1\n",
            "【Title】有限温度でのN = Z核における陽子 - 中性子対合エネルギー\n",
            "【Author】K. Kaneko, M. Hasegawa\n",
            "【Summary】有限温度でのアイソスカラーとアイソベクトル陽子 - 中性子（pn）対エネルギーの熱的挙動をシェルモデル計算によって調べた。これらのｐｎ対形成エネルギーは、ゼロ温度でのｐｎ対形成エネルギーの指標としての結合エネルギーの二重差から拡張される「熱」エネルギーの二重差によって推定することができる。我々は、ゼロ温度でのアイソスカラーとアイソベクターpnペアリングエネルギーの微妙なバランスが有限温度で消えることを発見した。温度が上昇すると、アイソベクトルpnペアリングエネルギーは減少しますが、アイソスカラーpnペアエネルギーはむしろ増加します。また、有限温度での対称エネルギーについても議論します。\n",
            "【updated】2007-01-29T02:51:25Z\n",
            "【URL】http://arxiv.org/abs/physics/0701314v1\n",
            "【Title】Coulomb四体に対する二重エネルギー微分断面積\n",
            "  準古典的フレームワークにおける問題\n",
            "【Author】Agapi Emmanouilidou\n",
            "【Summary】準古典的な枠組みの中で、クーロン四体問題のための二重エネルギー微分クロスセクションを定式化します。我々は、220.5、115、50および3.8eV過剰エネルギーでのLi基底状態からの三重項光イオン化についての結果を提示する。電子のうちの1つのエネルギーが固定されていると、220.5と115の過剰エネルギーでの二重エネルギー微分断面積は「U字型」（不等エネルギー共有）であり、115eVでのものはab initioと非常によく一致する結果。 50 eVでは、より均等なエネルギー共有構成への移行が開始されるようです。しきい値に近づくと、3.8 eVの過剰エネルギーで、等エネルギー共有構成が優勢になります。\n",
            "【updated】2009-12-22T14:19:36Z\n",
            "【URL】http://arxiv.org/abs/0901.3711v2\n",
            "【Title】エネルギー問題\n",
            "【Author】Giorgio Giacomelli\n",
            "【Summary】世界、ヨーロッパおよびイタリアのエネルギー状況の簡単な全体像が作られ、いくつかの異なるエネルギー源を分析し、関係、エネルギーの質、エネルギー環境およびエネルギーの健康に注意を払っている。次に、化石燃料、再生可能エネルギー、電気エネルギーの役割、原子力、省エネルギー、温室効果、持続可能な開発、水素経済、そしてリスクとその認識について議論します。\n",
            "【updated】2018-08-13T01:05:18Z\n",
            "【URL】http://arxiv.org/abs/1808.04032v1\n",
            "【Title】直流電気における回生制動エネルギーのモデリングとシミュレーション\n",
            "  鉄道システム\n",
            "【Author】M. Khodaparastan, A. Mohamed\n",
            "【Summary】回生制動エネルギーは、減速中に列車によって生成されるエネルギーです。電車が減速すると、モーターは発電機として働き、電気を生み出します。このエネルギーは3番目のレールにフィードバックされ、近くで加速している他の列車によって消費されます。近くに列車がない場合、このエネルギーは過電圧を避けるために熱として放出されます。回生制動エネルギーは、エネルギー貯蔵システム（ＥＳＳ）を設置することによって節約することができ、必要になったときに後で再利用することができる。エネルギー貯蔵の適切な設計、サイズおよび配置を見つけるためには、このエネルギーについての十分な理解が必要です。この論文の目的は、回生制動エネルギーをモデル化しシミュレートすることです。本稿で紹介する直流電車輸送システムモデルには、電車、変電所、鉄道システムが含まれる。\n"
          ],
          "name": "stdout"
        }
      ]
    }
  ]
}