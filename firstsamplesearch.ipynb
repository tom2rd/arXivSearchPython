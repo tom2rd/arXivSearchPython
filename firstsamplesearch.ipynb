{
 "cells": [
  {
   "cell_type": "code",
   "execution_count": 1,
   "metadata": {},
   "outputs": [],
   "source": [
    "import urllib.request\n",
    "url = 'http://export.arxiv.org/api/query?search_query=all:electron&start=0&max_results=1'\n",
    "data = urllib.request.urlopen(url).read()"
   ]
  },
  {
   "cell_type": "code",
   "execution_count": 2,
   "metadata": {},
   "outputs": [
    {
     "data": {
      "text/plain": [
       "b'<?xml version=\"1.0\" encoding=\"UTF-8\"?>\\n<feed xmlns=\"http://www.w3.org/2005/Atom\">\\n  <link href=\"http://arxiv.org/api/query?search_query%3Dall%3Aelectron%26id_list%3D%26start%3D0%26max_results%3D1\" rel=\"self\" type=\"application/atom+xml\"/>\\n  <title type=\"html\">ArXiv Query: search_query=all:electron&amp;id_list=&amp;start=0&amp;max_results=1</title>\\n  <id>http://arxiv.org/api/cHxbiOdZaP56ODnBPIenZhzg5f8</id>\\n  <updated>2019-05-15T00:00:00-04:00</updated>\\n  <opensearch:totalResults xmlns:opensearch=\"http://a9.com/-/spec/opensearch/1.1/\">145123</opensearch:totalResults>\\n  <opensearch:startIndex xmlns:opensearch=\"http://a9.com/-/spec/opensearch/1.1/\">0</opensearch:startIndex>\\n  <opensearch:itemsPerPage xmlns:opensearch=\"http://a9.com/-/spec/opensearch/1.1/\">1</opensearch:itemsPerPage>\\n  <entry>\\n    <id>http://arxiv.org/abs/cond-mat/0102536v1</id>\\n    <updated>2001-02-28T20:12:09Z</updated>\\n    <published>2001-02-28T20:12:09Z</published>\\n    <title>Impact of Electron-Electron Cusp on Configuration Interaction Energies</title>\\n    <summary>  The effect of the electron-electron cusp on the convergence of configuration\\ninteraction (CI) wave functions is examined. By analogy with the\\npseudopotential approach for electron-ion interactions, an effective\\nelectron-electron interaction is developed which closely reproduces the\\nscattering of the Coulomb interaction but is smooth and finite at zero\\nelectron-electron separation. The exact many-electron wave function for this\\nsmooth effective interaction has no cusp at zero electron-electron separation.\\nWe perform CI and quantum Monte Carlo calculations for He and Be atoms, both\\nwith the Coulomb electron-electron interaction and with the smooth effective\\nelectron-electron interaction. We find that convergence of the CI expansion of\\nthe wave function for the smooth electron-electron interaction is not\\nsignificantly improved compared with that for the divergent Coulomb interaction\\nfor energy differences on the order of 1 mHartree. This shows that, contrary to\\npopular belief, description of the electron-electron cusp is not a limiting\\nfactor, to within chemical accuracy, for CI calculations.\\n</summary>\\n    <author>\\n      <name>David Prendergast</name>\\n      <arxiv:affiliation xmlns:arxiv=\"http://arxiv.org/schemas/atom\">Department of Physics</arxiv:affiliation>\\n    </author>\\n    <author>\\n      <name>M. Nolan</name>\\n      <arxiv:affiliation xmlns:arxiv=\"http://arxiv.org/schemas/atom\">NMRC, University College, Cork, Ireland</arxiv:affiliation>\\n    </author>\\n    <author>\\n      <name>Claudia Filippi</name>\\n      <arxiv:affiliation xmlns:arxiv=\"http://arxiv.org/schemas/atom\">Department of Physics</arxiv:affiliation>\\n    </author>\\n    <author>\\n      <name>Stephen Fahy</name>\\n      <arxiv:affiliation xmlns:arxiv=\"http://arxiv.org/schemas/atom\">Department of Physics</arxiv:affiliation>\\n    </author>\\n    <author>\\n      <name>J. C. Greer</name>\\n      <arxiv:affiliation xmlns:arxiv=\"http://arxiv.org/schemas/atom\">NMRC, University College, Cork, Ireland</arxiv:affiliation>\\n    </author>\\n    <arxiv:doi xmlns:arxiv=\"http://arxiv.org/schemas/atom\">10.1063/1.1383585</arxiv:doi>\\n    <link title=\"doi\" href=\"http://dx.doi.org/10.1063/1.1383585\" rel=\"related\"/>\\n    <arxiv:comment xmlns:arxiv=\"http://arxiv.org/schemas/atom\">11 pages, 6 figures, 3 tables, LaTeX209, submitted to The Journal of\\n  Chemical Physics</arxiv:comment>\\n    <arxiv:journal_ref xmlns:arxiv=\"http://arxiv.org/schemas/atom\">J. Chem. Phys. 115, 1626 (2001)</arxiv:journal_ref>\\n    <link href=\"http://arxiv.org/abs/cond-mat/0102536v1\" rel=\"alternate\" type=\"text/html\"/>\\n    <link title=\"pdf\" href=\"http://arxiv.org/pdf/cond-mat/0102536v1\" rel=\"related\" type=\"application/pdf\"/>\\n    <arxiv:primary_category xmlns:arxiv=\"http://arxiv.org/schemas/atom\" term=\"cond-mat.str-el\" scheme=\"http://arxiv.org/schemas/atom\"/>\\n    <category term=\"cond-mat.str-el\" scheme=\"http://arxiv.org/schemas/atom\"/>\\n  </entry>\\n</feed>\\n'"
      ]
     },
     "execution_count": 2,
     "metadata": {},
     "output_type": "execute_result"
    }
   ],
   "source": [
    "data"
   ]
  },
  {
   "cell_type": "code",
   "execution_count": 3,
   "metadata": {},
   "outputs": [],
   "source": [
    "import urllib.request\n",
    "import datetime as dt\n",
    "import re"
   ]
  },
  {
   "cell_type": "code",
   "execution_count": 4,
   "metadata": {},
   "outputs": [
    {
     "name": "stdout",
     "output_type": "stream",
     "text": [
      "http://arxiv.org/abs/1905.05193v1\n",
      "TESS Spots a Compact System of Super-Earths around the Naked-Eye Star HR\n",
      "  858\n",
      "Andrew Vanderburg, Chelsea X. Huang, Joseph E. Rodriguez, Juliette C. Becker, George R. Ricker, Roland K. Vanderspek, David W. Latham, Sara Seager, Jon M. Jenkins, Brett Addison, Allyson Bieryla, Cesar Briceño, Brendan P. Bowler, Christopher J. Burke, Jennifer A. Burt, Douglas A. Caldwell, Jake T. Clark, Ian Crossfield, Jason A. Dittmann, Scott Dynes, Natalia Guerrero, Jonathan Horner, Stephen R. Kane, John Kielkopf, Adam L. Kraus, Nicolas Law, Andrew W. Mann, Matthew W. Mengel, Timothy D. Morton, Jack Okumura, Logan A. Pearce, Peter Plavchan, Mark E. Rose, Pam Rowden, Jeffrey C. Smith, Keivan Stassun, C. G. Tinney, Rob Wittenmyer, Duncan J. Wright, Hui Zhang, George Zhou, Carl A. Ziegler\n",
      "  Transiting Exoplanet Survey Satellite (TESS) observations have revealed a\n",
      "compact multi-planet system around the sixth-magnitude star HR 858 (TIC\n",
      "178155732), located 32 parsecs away. Three planets, each about twice the size\n",
      "of Earth, transit this slightly-evolved, late F-type star, which is also a\n",
      "member of a visual binary. Two of the planets may be in mean motion resonance.\n",
      "We analyze the TESS observations, using novel methods to model and remove\n",
      "instrumental systematic errors, and combine these data with follow-up\n",
      "observations taken from a suite of ground-based telescopes to characterize the\n",
      "planetary system. The HR 858 planets are enticing targets for precise radial\n",
      "velocity observations, secondary eclipse spectroscopy, and measurements of the\n",
      "Rossiter-McLaughlin effect.\n",
      "\n",
      "http://arxiv.org/abs/1905.05206v1\n",
      "Validation of a Temperate Fourth Planet in the K2-133 Multi-planet\n",
      "  System\n",
      "R. Wells, K. Poppenhaeger, C. A. Watson\n",
      "  We present follow-up observations of the K2-133 multi-planet system.\n",
      "Previously, we announced that K2-133 contained three super-Earths orbiting an\n",
      "M1.5V host star - with tentative evidence of a fourth outer-planet orbiting at\n",
      "the edge of the temperate zone. Here we report on the validation of the\n",
      "presence of the fourth planet, determining a radius of $1.73_{-0.13}^{+0.14}$\n",
      "R$_{\\oplus}$. The four planets span the radius gap of the exoplanet population,\n",
      "meaning further follow-up would be worthwhile to obtain masses and test\n",
      "theories of the origin of the gap. In particular, the trend of increasing\n",
      "planetary radius with decreasing incident flux in the K2-133 system supports\n",
      "the claim that the gap is caused by photo-evaporation of exoplanet atmospheres.\n",
      "Finally, we note that K2-133 e orbits on the edge of the stars temperate zone,\n",
      "and that our radius measurement allows for the possibility that this is a rocky\n",
      "world. Additional mass measurements are required to confirm or refute this\n",
      "scenario.\n",
      "\n",
      "http://arxiv.org/abs/1905.05229v1\n",
      "Discovery and Characterization of Kepler-36b\n",
      "Eric Agol, Joshua A. Carter\n",
      "  We describe the circumstances that led to the discovery of Kepler-36b, and\n",
      "the subsequent characterization of its host planetary system. The Kepler-36\n",
      "system is remarkable for its physical properties: the close separation of the\n",
      "planets, the contrasting densities of the planets despite their proximity, and\n",
      "the short chaotic timescale. Its discovery and characterization was also\n",
      "remarkable for the novelty of the detection technique and for the precise\n",
      "characterization due to the large transit-timing variations caused by the close\n",
      "proximity of the planets, as well as the precise stellar parameters due to\n",
      "asteroseismology. This was the first multi-planet system whose transit data was\n",
      "processed using a fully consistent photometric-dynamical model, using\n",
      "population Markov Chain Monte Carlo techniques to precisely constrain system\n",
      "parameters. Amongst those parameters, the stellar density was found to be\n",
      "consistent with a complementary, concurrent asteroseismic analysis. In a first,\n",
      "the 3D orientation of the planets was constrained from the lack of\n",
      "transit-duration variations. The system yielded insights into the composition\n",
      "and evolution of short-period planet systems. The denser planet appears to have\n",
      "an Earth-like composition, with uncertainties comparable to the highest\n",
      "precision rocky exoplanet measurements, and the planet densities foreshadowed\n",
      "the rocky/gaseous boundary. The formation of this system remains a mystery, but\n",
      "should yield insights into the migration and evolution of compact exoplanet\n",
      "systems.\n",
      "\n",
      "http://arxiv.org/abs/1905.05504v1\n",
      "A Variationally Computed IR Line List for the Methyl Radical CH$_3$\n",
      "Ahmad Y. Adam, Andrey Yachmenev, Sergei N. Yurchenko, Per Jensen\n",
      "  We present the first variational calculation of a hot temperature ab initio\n",
      "line list for the CH$_3$ radical. It is based on a high level ab initio\n",
      "potential energy surface and dipole moment surface of CH$_3$ in the ground\n",
      "electronic state. The ro-vibrational energy levels and Einstein $A$\n",
      "coefficients were calculated using the general-molecule variational approach\n",
      "implemented in the computer program TROVE. Vibrational energies and vibrational\n",
      "intensities are found to be in very good agreement with the available\n",
      "experimental data. The line list comprises 9,127,123 ro-vibrational states\n",
      "($J\\le 40$) and 2,058,655,166 transitions covering the wavenumber range up to\n",
      "10000 cm$^{-1}$ and should be suitable for temperatures up to $T= 1500$ K.\n",
      "\n",
      "http://arxiv.org/abs/1905.05509v1\n",
      "KMT-2018-BLG-1990Lb: A Nearby Jovian Planet From A Low-Cadence\n",
      "  Microlensing Field\n",
      "Yoon-Hyun Ryu, Kyu-Ha Hwang, Andrew Gould, Michael D. Albrow, Sun-Ju Chung, Cheongho Han, Youn Kil Jung, In-Gu Shin, Yossi Shvartzvald, Jennifer C. Yee, Weicheng Zang, Sang-Mok Cha, Dong-Jin Kim, Hyoun-Woo Kim, Seung-Lee Kim, Chung-Uk Lee, Dong-Joo Lee, Yongseok Lee, Byeong-Gon Park, Richard W. Pogge\n",
      "  We report the discovery and characterization of KMT-2018-BLG-1990Lb, a Jovian\n",
      "planet $(m_p=0.57_{-0.25}^{+0.79}\\,M_J)$ orbiting a late M dwarf\n",
      "$(M=0.14_{-0.06}^{+0.20}\\,M_\\odot)$, at a distance\n",
      "$(D_L=1.23_{-0.43}^{+1.06}\\,\\kpc)$, and projected at $2.6\\pm 0.6$ times the\n",
      "snow line distance, i.e., $a_{\\rm snow}\\equiv 2.7\\,\\au (M/M_\\odot)$, This is\n",
      "the second Jovian planet discovered by KMTNet in its low cadence ($0.4\\,{\\rm\n",
      "hr}^{-1}$) fields, demonstrating that this population will be well\n",
      "characterized based on survey-only microlensing data.\n",
      "\n"
     ]
    }
   ],
   "source": [
    "basedate = dt.date.today()+dt.timedelta(days=-1)\n",
    "previousdate = basedate +dt.timedelta(days=-1)\n",
    "\n",
    "url_q = 'http://export.arxiv.org/api/query?search_query=submittedDate:['+previousdate.strftime('%Y%m%d')+'1400+TO+'+basedate.strftime('%Y%m%d')+'1400]+AND+(cat:astro-ph.EP)&start=0&sortBy=submittedDate&sortOrder=ascending'\n",
    "data = urllib.request.urlopen(url_q).read().decode('utf-8')\n",
    "#\n",
    "parse = lambda a,b: re.findall(\"<\" + b + \">([\\s\\S]*?)<\\/\" + b + \">\", a)\n",
    "#\n",
    "entries = parse(str(data), \"entry\")\n",
    "for entry in entries:\n",
    "    url = parse(entry, \"id\")[0]\n",
    "    title = parse(entry, \"title\")[0]\n",
    "    author = ', '.join(parse(entry, \"name\") )\n",
    "    summary = parse(entry, \"summary\")[0]\n",
    "    print( '%s\\n%s\\n%s\\n%s' % (url, title, author, summary) )"
   ]
  },
  {
   "cell_type": "code",
   "execution_count": null,
   "metadata": {},
   "outputs": [],
   "source": []
  }
 ],
 "metadata": {
  "kernelspec": {
   "display_name": "Python 3",
   "language": "python",
   "name": "python3"
  },
  "language_info": {
   "codemirror_mode": {
    "name": "ipython",
    "version": 3
   },
   "file_extension": ".py",
   "mimetype": "text/x-python",
   "name": "python",
   "nbconvert_exporter": "python",
   "pygments_lexer": "ipython3",
   "version": "3.6.7"
  }
 },
 "nbformat": 4,
 "nbformat_minor": 2
}
